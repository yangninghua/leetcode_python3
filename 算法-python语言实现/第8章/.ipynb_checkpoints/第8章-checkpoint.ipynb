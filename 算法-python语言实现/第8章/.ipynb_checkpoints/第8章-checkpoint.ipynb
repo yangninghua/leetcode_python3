{
 "cells": [
  {
   "cell_type": "code",
   "execution_count": 1,
   "metadata": {},
   "outputs": [],
   "source": [
    "%matplotlib qt\n",
    "\n",
    "import  math\n",
    "import  numpy as np\n",
    "from  numpy import random\n",
    "import  matplotlib.pyplot as plt\n",
    "import  matplotlib.lines as mlines\n",
    "UPDATE_FREQ = 500  #每模拟投针500次后就将结果绘制出来\n",
    "BOUND = 10  #图形绘制区域的长和宽\n",
    "BORDER = 0.05 * 10  #绘制区域边缘宽度\n",
    "NEEDLES=  10000  #投针的次数\n",
    "NEEDLE_LENGTH = 1  #针的长度\n",
    "FLOORBOARD_WIDTH = 2  #两条平行线之间的距离\n",
    "FLOORBOARD_COLOR = 'black'  #两条平行线的颜色\n",
    "NEEDLE_INTERSECTING_COLOR = 'red'  #铁针与线相交时的颜色\n",
    "NEEDLE_NON_INTERSECTING_COLOR = 'green'  #铁针与直线不相交时的颜色\n",
    "class Needle:\n",
    "    def  __init__(self, x = None, y = None, theta = None, length = NEEDLE_LENGTH):\n",
    "        '''\n",
    "        x, y 作为铁针的中点，由于图像绘制区域的宽度为BOUND，因此我们可以把中点坐标设置在宽度内的任何地方,\n",
    "        theta是铁针与水平方向的夹角，在分析时我们将该值限制在0和Pi/2之间，考虑这个区间是因为我们确定哪个平行线\n",
    "        与铁针跟接近的情况下。如果不考虑这个前提条件，那么夹角的值就可以限定在0和pi之间。我们模拟时不事先考虑那条线与\n",
    "        针的距离更近，因此我们对夹角区间采用0和pi之间\n",
    "        '''\n",
    "        if x is None:\n",
    "            x = random.uniform(0, BOUND)\n",
    "        if y is None:\n",
    "            y = random.uniform(0, BOUND)\n",
    "        if theta is None:\n",
    "            theta = random.uniform(0, math.pi)\n",
    "        self.center = np.array([x, y])  #设置铁针中心点坐标\n",
    "        self.comp = np.array([length/2 * math.cos(theta), length/2 * math.sin(theta)])  #根据铁针与水平方向的夹角，计算中心在水平方向和竖直方向的距离\n",
    "        self.endPoints = np.array([np.add(self.center, -1 * self.comp),\n",
    "                                  np.add(self.center, self.comp)])  #根据中心与水平方向和竖直方向的距离运算铁针两头的坐标\n",
    "    def  intersectsY(self, y):\n",
    "        return  self.endPoints[0][1] < y and self.endPoints[1][1] > y  #y是平行线在竖直方向上的坐标\n",
    "class Buffon_Sim:  #启动模拟进程\n",
    "    def  __init__(self):\n",
    "        self.floorboards = []  #存储平行线在竖直方向上的y坐标\n",
    "        self.boards = int ((BOUND / FLOORBOARD_WIDTH) + 1)  #计算平行线在绘制区域内的数量\n",
    "        self.needles = []  #存储模拟的铁针\n",
    "        self.intersections = 0  #记录铁针与平行线相交的数量\n",
    "        window = \"Buffon\"\n",
    "        title = \"Buffon Needle Simulation\"\n",
    "        desc = (str(NEEDLES) + \" needles of length \" + str(NEEDLE_LENGTH) + \n",
    "               \" uniformly distributed over a \" + str(BOUND) + \" by \" + str(BOUND) + \n",
    "               \" area\" + \" with floorboards of width \" + str(FLOORBOARD_WIDTH))  #描述当前模拟情况\n",
    "        self.fig = plt.figure(figsize = (8,8))\n",
    "        self.fig.canvas.set_window_title(window)\n",
    "        self.fig.suptitle(title, size = 16, ha = 'center')\n",
    "        self.buffon = plt.subplot()  #将模拟投针绘制出来\n",
    "        self.buffon.set_title(desc, style = 'italic', size = 9, pad = 5)\n",
    "        self.results_text = self.fig.text(0, 0, self.updateResults(), size = 10)  #将投针情况绘制成图像\n",
    "        self.buffon.set_xlim(0 - BORDER, BOUND + BORDER)\n",
    "        self.buffon.set_ylim(0 - BORDER, BOUND + BORDER)\n",
    "        plt.gca().set_aspect('equal')  \n",
    "    def  plotFloorboards(self):\n",
    "        for j in range(self.boards):\n",
    "            self.floorboards.append(0 + j * FLOORBOARD_WIDTH)  #绘制平行线\n",
    "            self.buffon.hlines(y = self.floorboards[j], xmin = 0,\n",
    "                              xmax = BOUND, color = FLOORBOARD_COLOR, linestyle = '--', linewidth = 2.0)\n",
    "    def  tossNeedle(self):  #模拟投针过程\n",
    "        needle = Needle()\n",
    "        self.needles.append(needle)\n",
    "        p1 = [needle.endPoints[0][0], needle.endPoints[1][0]]  #获取铁针两个端点的x坐标\n",
    "        p2 = [needle.endPoints[0][1], needle.endPoints[1][1]]  #获取铁针两个端点的y坐标\n",
    "        for k in range(self.boards):  #检测铁针是否与平行线相交\n",
    "            if needle.intersectsY(self.floorboards[k]):\n",
    "                self.intersections += 1\n",
    "                self.buffon.plot(p1, p2, color = NEEDLE_INTERSECTING_COLOR, linewidth = 0.5)  #将相交的铁针用红色线条表示\n",
    "                return \n",
    "        self.buffon.plot(p1, p2, color = NEEDLE_NON_INTERSECTING_COLOR, linewidth = 0.5)  #不相交的铁针用绿色线条表示\n",
    "       \n",
    "        \n",
    "    def  plotNeedles(self):\n",
    "        \n",
    "        for i in range(NEEDLES):\n",
    "            self.tossNeedle()\n",
    "            self.results_text.set_text(self.updateResults(i + 1))\n",
    "            if (i + 1) % UPDATE_FREQ == 0:  #连续模拟指定次数投针后把结果绘制出来\n",
    "                plt.pause(0.0001)     \n",
    "    def  updateResults(self, needlesToTossed = 0):\n",
    "        if self.intersections == 0:\n",
    "            sim_pi = 0\n",
    "        else :\n",
    "            sim_pi = (2 * NEEDLE_LENGTH * needlesToTossed) / (FLOORBOARD_WIDTH * self.intersections)  #根据公式（4）计算Pi值\n",
    "        error = abs(((math.pi - sim_pi) / math.pi) * 100)  #计算模拟结果与真实结果的误差\n",
    "        s = (\"Intersections: \" + str(self.intersections) + \\\n",
    "               \"\\nTotal Needles: \" + str(needlesToTossed) + \\\n",
    "               \"\\nApproximation of pi: \" + str(sim_pi) + \"\\nError: \" + str(error) + \"%\")\n",
    "        return s\n",
    "    def  plot(self):\n",
    "        legend_lines = [mlines.Line2D([], [], color = FLOORBOARD_COLOR, linestyle = '--', lw = 2),\n",
    "                       mlines.Line2D([], [], color = NEEDLE_INTERSECTING_COLOR, lw = 1),\n",
    "                       mlines.Line2D([], [], color = NEEDLE_NON_INTERSECTING_COLOR, lw = 1)]\n",
    "        self.buffon.legend(legend_lines, ['floorboard', 'intersecting needle', 'non-intersecting needle'],\n",
    "                          loc = 1, framealpha = 0.9)\n",
    "        self.plotFloorboards()\n",
    "         \n",
    "        self.plotNeedles()\n",
    "        plt.show()\n",
    "      \n",
    "        \n",
    "bsim = Buffon_Sim()\n",
    "bsim.plot()"
   ]
  },
  {
   "cell_type": "code",
   "execution_count": 32,
   "metadata": {},
   "outputs": [
    {
     "name": "stdout",
     "output_type": "stream",
     "text": [
      "The number of customer getting the right hat is : 1\n"
     ]
    }
   ],
   "source": [
    "import  random\n",
    "from random import shuffle\n",
    "\n",
    "CUSTOMER_NUM = 10  #顾客的人数\n",
    "CUSTOMER_HATS = random.sample(range(1, CUSTOMER_NUM * 10), CUSTOMER_NUM) #使用随机数表示客户帽子\n",
    "customer_hats_map = {}\n",
    "for i in range(CUSTOMER_NUM):\n",
    "    customer_hats_map[i] = CUSTOMER_HATS[i]\n",
    "\n",
    "simulations = 100000  #模拟运行的次数\n",
    "correct_count = 0  #拿到自己帽子的人数\n",
    "\n",
    "for i in range(simulations):\n",
    "    shuffle(CUSTOMER_HATS)  #随机打乱帽子的排列次序\n",
    "    for i in range(CUSTOMER_NUM):\n",
    "        if customer_hats_map[i] == CUSTOMER_HATS[i]:  #从当前帽子中拿出第一顶还给客户\n",
    "            correct_count += 1\n",
    "        \n",
    "print('The number of customer getting the right hat is : {0}'.format(int(correct_count / simulations)))\n"
   ]
  },
  {
   "cell_type": "code",
   "execution_count": 44,
   "metadata": {},
   "outputs": [],
   "source": [
    "import  numpy as np\n",
    "def  choose_candidate(CANDIDATES_NUM = 100):\n",
    "    candidates = np.arange(1, CANDIDATES_NUM+1) #模拟每个人的水平\n",
    "    np.random.shuffle(candidates) #将候选人随机排列\n",
    "    view_only = int(round(CANDIDATES_NUM / np.e))  #根据分析前n/e个候选人只看不选\n",
    "    best_from_view_only = np.max(candidates[: view_only]) #记录前n/e个候选人中水平最高的\n",
    "    select_candidates = candidates[view_only:]\n",
    "    chosen_candidate = select_candidates[0]\n",
    "    for i in range(len(select_candidates)):\n",
    "        if select_candidates[i] > best_from_view_only:\n",
    "            chosen_candidate = select_candidates[i]  #当有找到比观察候选人中水平最高的出现时，立马选择    \n",
    "    return chosen_candidate"
   ]
  },
  {
   "cell_type": "code",
   "execution_count": 46,
   "metadata": {},
   "outputs": [],
   "source": [
    "'''\n",
    "在假设有100个候选人前提下模拟100，000次，并使用图表显示模拟效果\n",
    "'''\n",
    "simulation = np.array([choose_candidate() for i in range(100000)])"
   ]
  },
  {
   "cell_type": "code",
   "execution_count": 47,
   "metadata": {},
   "outputs": [],
   "source": [
    "plt.figure(figsize = (10, 6))\n",
    "plt.hist(simulation, bins = 100)\n",
    "plt.xticks(np.arange(0, 101, 10))\n",
    "plt.ylim(0,40000)\n",
    "plt.xlabel('Chosen candidate')\n",
    "plt.ylabel('frequency')\n",
    "plt.show()"
   ]
  },
  {
   "cell_type": "code",
   "execution_count": 41,
   "metadata": {},
   "outputs": [
    {
     "name": "stdout",
     "output_type": "stream",
     "text": [
      "100\n"
     ]
    }
   ],
   "source": [
    "print(simulation[0])"
   ]
  }
 ],
 "metadata": {
  "kernelspec": {
   "display_name": "Python 3",
   "language": "python",
   "name": "python3"
  },
  "language_info": {
   "codemirror_mode": {
    "name": "ipython",
    "version": 3
   },
   "file_extension": ".py",
   "mimetype": "text/x-python",
   "name": "python",
   "nbconvert_exporter": "python",
   "pygments_lexer": "ipython3",
   "version": "3.7.2"
  }
 },
 "nbformat": 4,
 "nbformat_minor": 2
}

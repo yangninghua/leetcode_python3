{
 "cells": [
  {
   "cell_type": "code",
   "execution_count": 1,
   "metadata": {},
   "outputs": [],
   "source": [
    "%matplotlib qt\n",
    "\n",
    "import  math\n",
    "import  numpy as np\n",
    "from  numpy import random\n",
    "import  matplotlib.pyplot as plt\n",
    "import  matplotlib.lines as mlines"
   ]
  },
  {
   "cell_type": "code",
   "execution_count": 84,
   "metadata": {},
   "outputs": [],
   "source": [
    "def choose_candidate(n, reject=np.e):\n",
    "    candidates = np.arange(1, n+1)\n",
    "    np.random.shuffle(candidates)\n",
    "    \n",
    "    if reject == np.e:\n",
    "        stop = int(round(n/reject))\n",
    "    else:\n",
    "        stop = int(round(reject*n/100))\n",
    "\n",
    "    best_from_rejected = np.max(candidates[:stop])\n",
    "    rest = candidates[stop:]\n",
    "    \n",
    "    try:\n",
    "        return rest[rest > best_from_rejected][0]\n",
    "    except IndexError:\n",
    "        return candidates[-1]"
   ]
  },
  {
   "cell_type": "code",
   "execution_count": 85,
   "metadata": {},
   "outputs": [],
   "source": [
    "best_candidate = []\n",
    "record = []\n",
    "for r in range(5, 101, 5):\n",
    "    sim = np.array([choose_candidate(n=100, reject=r) for i in range(100000)])\n",
    "    # np.histogram counts frequency of each candidate\n",
    "    record.append(np.histogram(sim, bins=100)[0])\n",
    "    best_candidate.append(np.histogram(sim, bins=100)[0][99]/100000)\n",
    "\n"
   ]
  },
  {
   "cell_type": "code",
   "execution_count": 87,
   "metadata": {},
   "outputs": [],
   "source": [
    "plt.figure(figsize=(10, 6))\n",
    "plt.scatter(range(5, 101, 5), best_candidate)\n",
    "plt.xlim(0, 100)\n",
    "plt.xticks(np.arange(0, 101, 10))\n",
    "plt.ylim(0, 0.4)\n",
    "plt.xlabel('% of candidates rejected')\n",
    "plt.ylabel('Probability of choosing best candidate')\n",
    "plt.grid(True)\n",
    "plt.axvline(100/np.e, ls='--', c='black')\n",
    "plt.show()"
   ]
  },
  {
   "cell_type": "code",
   "execution_count": 83,
   "metadata": {},
   "outputs": [
    {
     "name": "stdout",
     "output_type": "stream",
     "text": [
      "[0.15242, 0.23489, 0.28823, 0.32673, 0.34848, 0.36406, 0.36858, 0.37116, 0.36067, 0.34974, 0.33236, 0.30875, 0.28085, 0.25085, 0.21608, 0.1797, 0.14128, 0.09521, 0.04887, 0.01008]\n"
     ]
    }
   ],
   "source": [
    "print(best_candidate)  #min"
   ]
  },
  {
   "cell_type": "code",
   "execution_count": 86,
   "metadata": {},
   "outputs": [
    {
     "name": "stdout",
     "output_type": "stream",
     "text": [
      "[0.15646, 0.23555, 0.2883, 0.32604, 0.35183, 0.36453, 0.37117, 0.36915, 0.36587, 0.35117, 0.33157, 0.30901, 0.28086, 0.25169, 0.21633, 0.18055, 0.14061, 0.09593, 0.048, 0.01051]\n"
     ]
    }
   ],
   "source": [
    "print(best_candidate)  #max"
   ]
  }
 ],
 "metadata": {
  "kernelspec": {
   "display_name": "Python 3",
   "language": "python",
   "name": "python3"
  },
  "language_info": {
   "codemirror_mode": {
    "name": "ipython",
    "version": 3
   },
   "file_extension": ".py",
   "mimetype": "text/x-python",
   "name": "python",
   "nbconvert_exporter": "python",
   "pygments_lexer": "ipython3",
   "version": "3.7.2"
  }
 },
 "nbformat": 4,
 "nbformat_minor": 2
}

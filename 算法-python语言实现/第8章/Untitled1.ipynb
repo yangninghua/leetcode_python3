{
 "cells": [
  {
   "cell_type": "code",
   "execution_count": 2,
   "metadata": {},
   "outputs": [],
   "source": [
    "%matplotlib qt\n",
    "\n",
    "import  math\n",
    "import  numpy as np\n",
    "from  numpy import random\n",
    "import  matplotlib.pyplot as plt\n",
    "import  matplotlib.lines as mlines"
   ]
  },
  {
   "cell_type": "code",
   "execution_count": 3,
   "metadata": {},
   "outputs": [],
   "source": [
    "def choose_candidate(n, reject=np.e):\n",
    "    candidates = np.arange(1, n+1)\n",
    "    np.random.shuffle(candidates)\n",
    "    \n",
    "    if reject == np.e:\n",
    "        stop = int(round(n/reject))\n",
    "    else:\n",
    "        stop = int(round(reject*n/100))\n",
    "\n",
    "    best_from_rejected = np.min(candidates[:stop])\n",
    "    rest = candidates[stop:]\n",
    "    \n",
    "    try:\n",
    "    \treturn rest[rest < best_from_rejected][0]\n",
    "    except IndexError:\n",
    "    \treturn candidates[-1]"
   ]
  },
  {
   "cell_type": "code",
   "execution_count": 4,
   "metadata": {},
   "outputs": [],
   "source": [
    "best_candidate = []\n",
    "for r in range(5, 101, 5):\n",
    "    sim = np.array([choose_candidate(n=100, reject=r) for i in range(100000)])\n",
    "    # np.histogram counts frequency of each candidate\n",
    "    best_candidate.append(np.histogram(sim, bins=100)[0][0]/100000)\n",
    "\n",
    "plt.figure(figsize=(10, 6))\n",
    "plt.scatter(range(5, 101, 5), best_candidate)\n",
    "plt.xlim(0, 100)\n",
    "plt.xticks(np.arange(0, 101, 10))\n",
    "plt.ylim(0, 0.4)\n",
    "plt.xlabel('% of candidates rejected')\n",
    "plt.ylabel('Probability of choosing best candidate')\n",
    "plt.grid(True)\n",
    "plt.axvline(100/np.e, ls='--', c='black')\n",
    "plt.show()"
   ]
  },
  {
   "cell_type": "code",
   "execution_count": null,
   "metadata": {},
   "outputs": [],
   "source": []
  }
 ],
 "metadata": {
  "kernelspec": {
   "display_name": "Python 3",
   "language": "python",
   "name": "python3"
  },
  "language_info": {
   "codemirror_mode": {
    "name": "ipython",
    "version": 3
   },
   "file_extension": ".py",
   "mimetype": "text/x-python",
   "name": "python",
   "nbconvert_exporter": "python",
   "pygments_lexer": "ipython3",
   "version": "3.7.2"
  }
 },
 "nbformat": 4,
 "nbformat_minor": 2
}

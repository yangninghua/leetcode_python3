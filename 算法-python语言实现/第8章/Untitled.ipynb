{
 "cells": [
  {
   "cell_type": "code",
   "execution_count": 6,
   "metadata": {},
   "outputs": [],
   "source": [
    "%matplotlib qt\n",
    "import  math\n",
    "import  numpy as np\n",
    "from  numpy import random\n",
    "import  matplotlib.pyplot as plt\n",
    "import  matplotlib.lines as mlines"
   ]
  },
  {
   "cell_type": "code",
   "execution_count": 7,
   "metadata": {},
   "outputs": [],
   "source": [
    "import  numpy as np\n",
    "def  choose_candidate(CANDIDATES_NUM = 100):\n",
    "    candidates = np.arange(1, CANDIDATES_NUM+1) #模拟每个人的水平\n",
    "    np.random.shuffle(candidates) #将候选人随机排列\n",
    "    view_only = int(round(CANDIDATES_NUM / np.e))  #根据分析前n/e个候选人只看不选\n",
    "    best_from_view_only = np.max(candidates[: view_only]) #记录前n/e个候选人中水平最高的\n",
    "    select_candidates = candidates[view_only:]\n",
    "    chosen_candidate = select_candidates[0]\n",
    "    for i in range(len(select_candidates)):\n",
    "        if select_candidates[i] > best_from_view_only:\n",
    "            chosen_candidate = select_candidates[i]  #当有找到比观察候选人中水平最高的出现时，立马选择    \n",
    "    return chosen_candidate"
   ]
  },
  {
   "cell_type": "code",
   "execution_count": 8,
   "metadata": {},
   "outputs": [],
   "source": [
    "'''\n",
    "在假设有100个候选人前提下模拟100，000次，并使用图表显示模拟效果\n",
    "'''\n",
    "simulation = np.array([choose_candidate() for i in range(100000)])\n",
    "\n"
   ]
  },
  {
   "cell_type": "code",
   "execution_count": 9,
   "metadata": {},
   "outputs": [],
   "source": [
    "\n",
    "plt.figure(figsize = (10, 6))\n",
    "plt.hist(simulation, bins = 100)\n",
    "plt.xticks(np.arange(0, 101, 10))\n",
    "plt.ylim(0,40000)\n",
    "plt.xlabel('Chosen candidate')\n",
    "plt.ylabel('frequency')\n",
    "plt.show()"
   ]
  }
 ],
 "metadata": {
  "kernelspec": {
   "display_name": "Python 3",
   "language": "python",
   "name": "python3"
  },
  "language_info": {
   "codemirror_mode": {
    "name": "ipython",
    "version": 3
   },
   "file_extension": ".py",
   "mimetype": "text/x-python",
   "name": "python",
   "nbconvert_exporter": "python",
   "pygments_lexer": "ipython3",
   "version": "3.7.2"
  }
 },
 "nbformat": 4,
 "nbformat_minor": 2
}

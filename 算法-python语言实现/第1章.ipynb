{
 "cells": [
  {
   "cell_type": "code",
   "execution_count": 6,
   "metadata": {},
   "outputs": [],
   "source": [
    "%matplotlib qt\n",
    "import pylab\n",
    "import  matplotlib.pyplot as plt\n",
    "from random import shuffle\n",
    "def bubblesort_anim(a):\n",
    " x = range(len(a))\n",
    " swapped = True  #标记排序是否已经结束\n",
    " while swapped: \n",
    "  plt.clf() #清空显示窗口以便实现动画效果\n",
    "  swapped = False\n",
    "  for i in range(len(a)-1):\n",
    "   if a[i] > a[i+1]: #比较相邻两个元素\n",
    "    a[i+1], a[i] = a[i], a[i+1] #如果左边元素比右边元素值大则进行互换\n",
    "    swapped = True\n",
    "  plt.plot(x,a,'k.',markersize=6)#将一次冒泡排序后的元素排列变化显示到窗口\n",
    "  plt.pause(0.01)\n",
    "  \n",
    "a = list(range(300))  #初始化0-299，总共300个元素\n",
    "shuffle(a)  #将300个元素随机排列\n",
    "#执行冒泡排序将300个元素进行升序排列\n",
    "bubblesort_anim(a)"
   ]
  },
  {
   "cell_type": "code",
   "execution_count": 74,
   "metadata": {},
   "outputs": [],
   "source": [
    "import numpy as np\n",
    "import math\n",
    "%matplotlib qt\n",
    "import pylab\n",
    "import  matplotlib.pyplot as plt\n",
    "n = np.arange(1, 6, 1)\n",
    "n_factory = [math.factorial(nn) for nn in n] #对应复杂度O(n!)\n",
    "plt.plot(n, n_factory, label = \"n!\")\n",
    "plt.annotate(\n",
    "        s=\"O(n!)\",\n",
    "        xy=(4.8, 100), xytext=(-20, 10),\n",
    "        textcoords='offset points', ha='right', va='bottom',\n",
    "        bbox=dict(boxstyle='round,pad=0.5', fc='yellow', alpha=0.5),\n",
    "        arrowprops=dict(arrowstyle = '->', connectionstyle='arc3,rad=0'))\n",
    "constant_n_power = 2**n  #对应复杂度O(c^n),c=2\n",
    "plt.plot(n, constant_n_power, label=\"c^n\")\n",
    "plt.annotate(\n",
    "        s=\"O(c^n, c=2)\",\n",
    "        xy=(4.9, 31.5), xytext=(-15, 10),\n",
    "        textcoords='offset points', ha='right', va='bottom',\n",
    "        bbox=dict(boxstyle='round,pad=0.5', fc='yellow', alpha=0.5),\n",
    "        arrowprops=dict(arrowstyle = '->', connectionstyle='arc3,rad=0'))\n",
    "n_with_constant_power = n ** 2 #对应复杂度O(n^c) c = 2\n",
    "plt.plot(n, n_with_constant_power, label=\"n^c\")\n",
    "plt.annotate(\n",
    "        s=\"O(n^c, c=2)\",\n",
    "        xy=(4.5, 19.7), xytext=(-20, 10),\n",
    "        textcoords='offset points', ha='right', va='bottom',\n",
    "        bbox=dict(boxstyle='round,pad=0.5', fc='yellow', alpha=0.5),\n",
    "        arrowprops=dict(arrowstyle = '->', connectionstyle='arc3,rad=0'))\n",
    "n_lg_n = [nn * math.log(nn) for nn in n] #对应复杂度O(n*lg(n))\n",
    "plt.plot(n, n_lg_n, label=\"n*lg(n)\")\n",
    "plt.annotate(\n",
    "        s=\"O(n*lg(n))\",\n",
    "        xy=(4.3, 6.5), xytext=(-20, 10),\n",
    "        textcoords='offset points', ha='right', va='bottom',\n",
    "        bbox=dict(boxstyle='round,pad=0.5', fc='yellow', alpha=0.5),\n",
    "        arrowprops=dict(arrowstyle = '->', connectionstyle='arc3,rad=0'))\n",
    "constant_2 = [2 for nn in n] #对应复杂度O(c), c=2\n",
    "plt.plot(n, constant_2, label=\"O(c)\")\n",
    "plt.annotate(\n",
    "        s=\"O(c), c=2\",\n",
    "        xy=(4.0, 1.9), xytext=(-20, -20),\n",
    "        textcoords='offset points', ha='right', va='bottom',\n",
    "        bbox=dict(boxstyle='round,pad=0.5', fc='yellow', alpha=0.5),\n",
    "        arrowprops=dict(arrowstyle = '->', connectionstyle='arc3,rad=0'))\n",
    "plt.legend()\n",
    "plt.show()"
   ]
  },
  {
   "cell_type": "code",
   "execution_count": null,
   "metadata": {},
   "outputs": [],
   "source": []
  }
 ],
 "metadata": {
  "kernelspec": {
   "display_name": "Python 3",
   "language": "python",
   "name": "python3"
  },
  "language_info": {
   "codemirror_mode": {
    "name": "ipython",
    "version": 3
   },
   "file_extension": ".py",
   "mimetype": "text/x-python",
   "name": "python",
   "nbconvert_exporter": "python",
   "pygments_lexer": "ipython3",
   "version": "3.7.2"
  }
 },
 "nbformat": 4,
 "nbformat_minor": 2
}

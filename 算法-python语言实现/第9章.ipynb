{
 "cells": [
  {
   "cell_type": "code",
   "execution_count": 2,
   "metadata": {},
   "outputs": [
    {
     "name": "stdout",
     "output_type": "stream",
     "text": [
      "ghij occur at position 6 in abcdefghijklmn\n"
     ]
    }
   ],
   "source": [
    "def brute_force_match(T, P):\n",
    "    n = len(T)\n",
    "    i = 0\n",
    "    while i < n - len(P):  #依次从文本T中每个字符开始比对\n",
    "        for j in range(len(P)):\n",
    "            if T[i + j] != P[j]:\n",
    "                break\n",
    "        if j == len(P) - 1:\n",
    "            return i\n",
    "        i += 1\n",
    "    return -1\n",
    "T = \"abcdefghijklmn\"\n",
    "P = \"ghij\"\n",
    "s = brute_force_match(T, P)\n",
    "if s != -1:\n",
    "    print(\"{0} occur at position {1} in {2}\".format(P, s, T))"
   ]
  },
  {
   "cell_type": "code",
   "execution_count": 4,
   "metadata": {},
   "outputs": [
    {
     "name": "stdout",
     "output_type": "stream",
     "text": [
      "ghij occur at position 6 in abcdefghijklmn\n"
     ]
    }
   ],
   "source": [
    "def brute_force_match1(T, P):\n",
    "    n = len(T)\n",
    "    i = 0\n",
    "    while i < n - len(P):  #依次从文本T中每个字符开始比对\n",
    "        count = 0\n",
    "        for j in range(len(P)):  #假设P中字符不会重复出现\n",
    "            count += 1\n",
    "            if T[i + j] != P[j]:\n",
    "                break\n",
    "        if j == len(P) - 1:\n",
    "            return i\n",
    "        i += count\n",
    "    return -1\n",
    "T = \"abcdefghijklmn\"\n",
    "P = \"ghij\"\n",
    "s = brute_force_match1(T, P)\n",
    "if s != -1:\n",
    "    print(\"{0} occur at position {1} in {2}\".format(P, s, T))"
   ]
  },
  {
   "cell_type": "code",
   "execution_count": 10,
   "metadata": {},
   "outputs": [
    {
     "name": "stdout",
     "output_type": "stream",
     "text": [
      "P occurs at position 3 \n",
      "P occurs at position 14 \n"
     ]
    }
   ],
   "source": [
    "def  rabin_karp_matching(T, P, Q):\n",
    "    n = len(T)\n",
    "    m = len(P)\n",
    "    d = 10  \n",
    "    h = np.power(d, m - 1) % Q \n",
    "    p = 0\n",
    "    t = 0\n",
    "    for i in range(m):#计算整合整数\n",
    "        p = (d * p + ord(P[i])) % Q\n",
    "        t = (d * t + ord(T[i])) % Q\n",
    "    for i in range(0, n - m + 1):  \n",
    "        if  p == t: #如果整合整数相等那就要逐个字符比对\n",
    "            for j in range(m):\n",
    "                if P[j] != T[i + j]:\n",
    "                    break\n",
    "            if j == m - 1:\n",
    "                print(\"P occurs at position {0} \".format(i))\n",
    "        if i < n - m:\n",
    "            t = (d * (t - ord(T[i]) * h) + ord(T[i + m])) % Q\n",
    "T = \"abcdefghopqcmndeftyu\"\n",
    "P = \"def\"\n",
    "Q = 29  #选取一个素数\n",
    "rabin_karp_matching(T, P, Q)"
   ]
  },
  {
   "cell_type": "code",
   "execution_count": 48,
   "metadata": {},
   "outputs": [
    {
     "name": "stdout",
     "output_type": "stream",
     "text": [
      "from state 0 receive e and to state 1\n",
      "from state 0 receive f and to state 0\n",
      "from state 1 receive e and to state 1\n",
      "from state 1 receive f and to state 2\n",
      "from state 2 receive e and to state 3\n",
      "from state 2 receive f and to state 0\n",
      "from state 3 receive e and to state 1\n",
      "from state 3 receive f and to state 4\n",
      "from state 4 receive e and to state 5\n",
      "from state 4 receive f and to state 0\n",
      "from state 5 receive e and to state 1\n",
      "from state 5 receive f and to state 6\n",
      "from state 6 receive e and to state 7\n",
      "from state 6 receive f and to state 0\n"
     ]
    }
   ],
   "source": [
    "def  create_state_machine(P, char_set):\n",
    "    state_machine = {}\n",
    "    m = len(P)  #状态机状态节点的数量等于匹配字符串字符个数\n",
    "    for q in range(m):\n",
    "        for char in char_set: #构造每个节点接收字符集中的字符时要跳转的下一个状态\n",
    "            '''\n",
    "            从状态q接收字符a后跳转的下一个状态取决于P中几个字符形成的前缀能成为字符串P[0:q]+a的后缀\n",
    "            '''\n",
    "            s = P[0:q] + char\n",
    "            s = s[::-1] #将字符串倒转\n",
    "            state_machine[(q, char)] = 0 #默认跳转到状态0\n",
    "            for k in range(1, m + 1):\n",
    "                if k > len(s):\n",
    "                    break\n",
    "                prefix = P[0:k]\n",
    "                prefix = prefix[::-1]\n",
    "                count = 0\n",
    "                for j in range(len(prefix)): #如果字符串s是字符串t的后缀,那么翻转后的s是翻转后t的前缀\n",
    "                    if prefix[j] == s[j]:\n",
    "                        count += 1\n",
    "                    else:\n",
    "                        break\n",
    "                if count == len(prefix):\n",
    "                    state_machine[(q, char)] = j + 1\n",
    "    return  state_machine\n",
    "\n",
    "P = \"efefefe\"\n",
    "char_set = ['e', 'f']\n",
    "machine = create_state_machine(P, char_set)\n",
    "for key in machine.keys():\n",
    "    print(\"from state {0} receive {1} and to state {2}\".format(key[0], key[1], machine[key]))        "
   ]
  },
  {
   "cell_type": "code",
   "execution_count": 19,
   "metadata": {},
   "outputs": [
    {
     "name": "stdout",
     "output_type": "stream",
     "text": [
      "string can be matched after skip 4 characters\n"
     ]
    }
   ],
   "source": [
    "accept_state = len(P)\n",
    "T = \"feffefefefefee\"\n",
    "def  matching_by_state_machine(state_machine, accept_state, T):\n",
    "    q = 0\n",
    "    for i in range(len(T)):\n",
    "        q = state_machine[(q, T[i])]\n",
    "        if q == accept_state:\n",
    "            print(\"string can be matched after skip {0} characters\".format(i - accept_state + 1))\n",
    "            break\n",
    "matching_by_state_machine(machine, accept_state, T)"
   ]
  },
  {
   "cell_type": "code",
   "execution_count": 22,
   "metadata": {},
   "outputs": [
    {
     "name": "stdout",
     "output_type": "stream",
     "text": [
      "[0 0 1 2 3 0 1]\n"
     ]
    }
   ],
   "source": [
    "def  prefix(P):\n",
    "    m = len(P)\n",
    "    pre = np.zeros(m).astype(int)\n",
    "    k = 0\n",
    "    for q in range(1, m):\n",
    "        while k > 0 and P[k] != P[q]:\n",
    "            k = pre[k]\n",
    "        if P[k] == P[q]:\n",
    "            k = k + 1\n",
    "        pre[q] = k\n",
    "    return pre\n",
    "P = \"ababaca\"\n",
    "pre = prefix(P)\n",
    "print(pre)       "
   ]
  },
  {
   "cell_type": "code",
   "execution_count": 35,
   "metadata": {},
   "outputs": [
    {
     "name": "stdout",
     "output_type": "stream",
     "text": [
      "P occurs after skip 7 characters \n",
      "P occurs after skip 17 characters \n"
     ]
    }
   ],
   "source": [
    "def  KMP_Matching(T, P):\n",
    "    n = len(T)\n",
    "    m = len(P)\n",
    "    pre = prefix(P)\n",
    "    q = 0 \n",
    "    for i in range(n):\n",
    "        while q > 0 and P[q] != T[i]:\n",
    "            q = pre[q-1] #因q记录的是字符个数因此在数组中定位时需要减一\n",
    "        if P[q] == T[i]:#记录当前有几个字符能匹配上\n",
    "            q = q + 1\n",
    "        if q == m :\n",
    "            print(\"P occurs after skip {0} characters \".format(i - m + 1))\n",
    "            q = pre[q - 1]\n",
    "T = \"abababcababacabcbababaca\"\n",
    "P = \"ababaca\"\n",
    "KMP_Matching(T, P)"
   ]
  },
  {
   "cell_type": "code",
   "execution_count": 32,
   "metadata": {},
   "outputs": [
    {
     "name": "stdout",
     "output_type": "stream",
     "text": [
      "the longest prefix that can be suffix of ababa is aba\n",
      "[3, 1, 0]\n",
      "string created by first prefix_star is aba which is suffix of Pq\n",
      "string created by first prefix_star is a which is suffix of Pq\n"
     ]
    }
   ],
   "source": [
    "P = \"ababaca\"\n",
    "def  longest_prfix_for_suffix(P, q):#找出能够成为Pq后缀的最长前缀\n",
    "    k = 1\n",
    "    prefix_len = 0\n",
    "    P_q_reverse = P[:q]\n",
    "    P_q_reverse = P_q_reverse[::-1]\n",
    "    while k < q:\n",
    "        prefix_s = P[:k]\n",
    "        prefix_s = prefix_s[::-1]\n",
    "        match_all = True\n",
    "        for i in range(k):\n",
    "            if P_q_reverse[i] != prefix_s[i]:\n",
    "                match_all = False\n",
    "                break\n",
    "        if match_all is True:\n",
    "            prefix_len = k\n",
    "        k = k + 1\n",
    "    return prefix_len\n",
    "q = 5\n",
    "k = longest_prfix_for_suffix(P , q)\n",
    "print(\"the longest prefix that can be suffix of {0} is {1}\".format(P[0:q], P[0:k]))\n",
    "def  prefix_P_q_star(P, q):\n",
    "    pre_star = []\n",
    "    k = longest_prfix_for_suffix(P, q)\n",
    "    pre_star.append(k)\n",
    "    while k > 0:\n",
    "        k_1 = longest_prfix_for_suffix(P, k)\n",
    "        k = k_1\n",
    "        pre_star.append(k)\n",
    "    return pre_star\n",
    "\n",
    "prefix_star = prefix_P_q_star(P, q)\n",
    "print(prefix_star)\n",
    "Pq = P[:q]\n",
    "for k in prefix_star:\n",
    "    prefix_k = Pq[:k]\n",
    "    if k != 0:\n",
    "        print(\"string created by first prefix_star is {0} which is suffix of Pq\".format(Pq[:k]))"
   ]
  },
  {
   "cell_type": "code",
   "execution_count": 64,
   "metadata": {},
   "outputs": [
    {
     "name": "stdout",
     "output_type": "stream",
     "text": [
      "T[i] is a and q is 1\n",
      "T[i] is b and q is 2\n",
      "T[i] is a and q is 3\n",
      "T[i] is b and q is 4\n",
      "T[i] is a and q is 5\n",
      "T[i] is b and q is 4\n",
      "T[i] is c and q is 0\n",
      "T[i] is a and q is 1\n",
      "T[i] is b and q is 2\n",
      "T[i] is a and q is 3\n",
      "T[i] is b and q is 4\n",
      "T[i] is a and q is 5\n",
      "T[i] is c and q is 6\n",
      "T[i] is a and q is 7\n",
      "P occurs after skip 7 characters \n",
      "T[i] is b and q is 2\n",
      "T[i] is c and q is 0\n",
      "T[i] is b and q is 0\n",
      "T[i] is a and q is 1\n",
      "T[i] is b and q is 2\n",
      "T[i] is a and q is 3\n",
      "T[i] is b and q is 4\n",
      "T[i] is a and q is 5\n",
      "T[i] is c and q is 6\n",
      "T[i] is a and q is 7\n",
      "P occurs after skip 17 characters \n"
     ]
    }
   ],
   "source": [
    "def  KMP_Matching(T, P):\n",
    "    n = len(T)\n",
    "    m = len(P)\n",
    "    pre = prefix(P)\n",
    "    q = 0 \n",
    "    for i in range(n):\n",
    "        while q > 0 and P[q] != T[i]:\n",
    "            q = pre[q-1]#因q记录的是字符个数因此在数组中定位时需要减一\n",
    "        if P[q] == T[i]:#记录当前有几个字符能匹配上\n",
    "            q = q + 1\n",
    "        print(\"T[i] is {0} and q is {1}\".format(T[i], q))  #输出当前读入字符T[i]后变量q的变化\n",
    "        if q == m :\n",
    "            print(\"P occurs after skip {0} characters \".format(i - m + 1))\n",
    "            q = pre[q - 1]\n",
    "T = \"abababcababacabcbababaca\"\n",
    "P = \"ababaca\"\n",
    "KMP_Matching(T, P)"
   ]
  },
  {
   "cell_type": "code",
   "execution_count": 62,
   "metadata": {},
   "outputs": [],
   "source": [
    "char_set = ['a', 'b', 'c']\n",
    "P = \"ababaca\"\n",
    "machine = create_state_machine(P, char_set)"
   ]
  },
  {
   "cell_type": "code",
   "execution_count": 63,
   "metadata": {},
   "outputs": [
    {
     "name": "stdout",
     "output_type": "stream",
     "text": [
      "T[i] is a and q is 1\n",
      "T[i] is b and q is 2\n",
      "T[i] is a and q is 3\n",
      "T[i] is b and q is 4\n",
      "T[i] is a and q is 5\n",
      "T[i] is b and q is 4\n",
      "T[i] is c and q is 0\n",
      "T[i] is a and q is 1\n",
      "T[i] is b and q is 2\n",
      "T[i] is a and q is 3\n",
      "T[i] is b and q is 4\n",
      "T[i] is a and q is 5\n",
      "T[i] is c and q is 6\n",
      "T[i] is a and q is 7\n",
      "string match at position  6\n"
     ]
    }
   ],
   "source": [
    "T = \"abababcababacabcbababaca\"\n",
    "def  matching_by_state_machine(state_machine, accept_state, T):\n",
    "    q = 0\n",
    "    for i in range(len(T)):\n",
    "        q = state_machine[(q, T[i])]\n",
    "        print(\"T[i] is {0} and q is {1}\".format(T[i], q))\n",
    "        if q == accept_state:\n",
    "            print(\"string match at position \", i - accept_state)\n",
    "            break\n",
    "matching_by_state_machine(machine, accept_state, T)"
   ]
  },
  {
   "cell_type": "code",
   "execution_count": null,
   "metadata": {},
   "outputs": [],
   "source": []
  },
  {
   "cell_type": "markdown",
   "metadata": {},
   "source": []
  }
 ],
 "metadata": {
  "kernelspec": {
   "display_name": "Python 3",
   "language": "python",
   "name": "python3"
  },
  "language_info": {
   "codemirror_mode": {
    "name": "ipython",
    "version": 3
   },
   "file_extension": ".py",
   "mimetype": "text/x-python",
   "name": "python",
   "nbconvert_exporter": "python",
   "pygments_lexer": "ipython3",
   "version": "3.7.2"
  }
 },
 "nbformat": 4,
 "nbformat_minor": 2
}

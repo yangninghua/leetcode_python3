{
 "cells": [
  {
   "cell_type": "code",
   "execution_count": 107,
   "metadata": {},
   "outputs": [],
   "source": [
    "def  parent(i):#返回给定下标元素对应的父节点下标\n",
    "    return int((i+1)/2) - 1 #由于数组下标从0开始因此i要加1,同样原因返回结果要减1\n",
    "def  left(i): #返回给定下标元素的左孩子下标\n",
    "    return 2*(i+1) - 1\n",
    "def  right(i): #返回给定下标元素的右孩子下标\n",
    "    return 2*(i+1)\n"
   ]
  },
  {
   "cell_type": "code",
   "execution_count": 108,
   "metadata": {},
   "outputs": [
    {
     "name": "stdout",
     "output_type": "stream",
     "text": [
      "[17, 15, 8, 9, 10, 3, 7, 1, 4, 2]\n"
     ]
    }
   ],
   "source": [
    "def  build_big_heap(A):  #将输入数组中的元素排列成满足大堆形式\n",
    "    if len(A) <= 1:\n",
    "        return A\n",
    "    k = 1\n",
    "    while k < len(A):\n",
    "        i = k\n",
    "        while parent(i) >= 0:  #循环结束后[0:i]之间的元素满足大堆性质\n",
    "            if A[parent(i)] < A[i]: #如果父节点的值比子节点小,交换两者\n",
    "                temp = A[parent(i)]\n",
    "                A[parent(i)] = A[i]\n",
    "                A[i] = temp\n",
    "                i = parent(i)\n",
    "            else:\n",
    "                break\n",
    "        k += 1\n",
    "    return A\n",
    "A = [1,3,4,2,9,7,8,10,15,17]\n",
    "heap_A = build_big_heap(A)\n",
    "print(A)\n"
   ]
  },
  {
   "cell_type": "code",
   "execution_count": 109,
   "metadata": {},
   "outputs": [
    {
     "name": "stdout",
     "output_type": "stream",
     "text": [
      "[1, 2, 3, 4, 7, 8, 9, 10, 15, 17]\n"
     ]
    }
   ],
   "source": [
    "def  maxify_heap(heap, size):  #当处理堆顶元素不满足大堆性质的情况\n",
    "    parent = 0\n",
    "    while left(parent) < size or right(parent) < size:  #将父节点与值最大的孩子节点进行互换\n",
    "        max_val = heap[parent]\n",
    "        child = parent\n",
    "        if left(parent) < size and heap[left(parent)] > max_val:\n",
    "            max_val = heap[left(parent)]\n",
    "            child = left(parent)\n",
    "        if right(parent) < size and heap[right(parent)] > max_val:\n",
    "            max_val = heap[right(parent)]\n",
    "            child = right(parent)\n",
    "        if child == parent:  #如果当前节点比左右孩子的节点值要大，调整结束\n",
    "            return\n",
    "        temp = heap[parent]\n",
    "        heap[parent] = max_val\n",
    "        heap[child] = temp\n",
    "        parent = child      \n",
    "def  heap_sort(A):\n",
    "    A = build_big_heap(A)  #先将数组元素排列成大堆\n",
    "    heap_size = len(A)\n",
    "    while heap_size > 1:\n",
    "        temp = A[0] #断开末尾节点，并将头结点与末尾节点交互\n",
    "        A[0] = A[heap_size - 1]\n",
    "        A[heap_size - 1] = temp\n",
    "        heap_size -= 1\n",
    "        maxify_heap(A, heap_size)  #将断开节点前面的节点调整成大堆\n",
    "    return A\n",
    "A = [1,3,4,2,9,7,8,10,15,17]\n",
    "A = heap_sort(A)\n",
    "print(A)\n"
   ]
  },
  {
   "cell_type": "code",
   "execution_count": 110,
   "metadata": {},
   "outputs": [
    {
     "name": "stdout",
     "output_type": "stream",
     "text": [
      "17\n",
      "[15, 10, 8, 9, 2, 3, 7, 1, 4]\n"
     ]
    }
   ],
   "source": [
    "def  maximun(heap):  #返回堆的最大值\n",
    "    return heap[0]\n",
    "def extractMax(heap): #抽取堆的最大值元素\n",
    "    if len(heap) < 1:\n",
    "        raise Exception(\"heap underflow\")\n",
    "    m = heap[0]\n",
    "    heap[0] = heap[len(heap) - 1]  #将末尾元素放到首位然后调节元素排序\n",
    "    heap.pop(len(heap) - 1)\n",
    "    maxify_heap(heap, len(heap))\n",
    "    return m\n",
    "A = [1,3,4,2,9,7,8,10,15,17]\n",
    "heap_A = build_big_heap(A)\n",
    "m = ExtractMax(heap_A)\n",
    "print(m)\n",
    "print(heap_A)\n"
   ]
  },
  {
   "cell_type": "code",
   "execution_count": 111,
   "metadata": {},
   "outputs": [
    {
     "name": "stdout",
     "output_type": "stream",
     "text": [
      "[18, 15, 17, 9, 10, 3, 7, 1, 4, 2]\n"
     ]
    }
   ],
   "source": [
    "def  increaseKey(heap, i, k):  #将大堆中下标为i的元素值增加到k\n",
    "    if k < heap[i]:\n",
    "        return\n",
    "    heap[i] = k\n",
    "    while i > 0 and heap[parent(i)] < heap[i]:  #如果值比父节点大就调整它与父节点位置\n",
    "        temp = heap[parent(i)]\n",
    "        heap[parent(i)] = heap[i]\n",
    "        heap[i] = temp\n",
    "        i = parent(i)\n",
    "    return heap\n",
    "A = [1,3,4,2,9,7,8,10,15,17]\n",
    "heap_A = build_big_heap(A)\n",
    "A = increaseKey(heap_A, 2, 18) #将大堆中下标为2的元素值增加到18\n",
    "print(A)\n"
   ]
  },
  {
   "cell_type": "code",
   "execution_count": 112,
   "metadata": {},
   "outputs": [
    {
     "name": "stdout",
     "output_type": "stream",
     "text": [
      "[17, 15, 8, 9, 10, 3, 7, 1, 4, 2]\n"
     ]
    }
   ],
   "source": [
    "def  insert(heap, x): #将新元素x插入大堆\n",
    "    heap.append(x)\n",
    "    i = len(heap) - 1\n",
    "    while i > 0 and heap[parent(i)] < heap[i]: #调整子节点与父节点的位置\n",
    "        temp = heap[parent(i)]\n",
    "        heap[parent(i)] = heap[i]\n",
    "        heap[i] = temp\n",
    "        i = parent(i)\n",
    "    return heap\n",
    "A = [1,3,4,2,9,7,8,10,15]\n",
    "heap_A = build_big_heap(A)\n",
    "A = insert(heap_A, 17) #将新元素17插入大堆\n",
    "print(A)\n"
   ]
  },
  {
   "cell_type": "code",
   "execution_count": 114,
   "metadata": {},
   "outputs": [],
   "source": [
    "import random\n",
    "\n",
    "def  arrange_array_by_pivot(array, pivot):\n",
    "    '''\n",
    "    将数组分割成三部分，第一部分元素小于pivot,第二部分等于pivot,第三部分大于pivot\n",
    "    '''\n",
    "    i = 0\n",
    "    j = len(array) - 1\n",
    "    while i < j:  #将数组分成两部分,小于pivot的元素放前面大于pivot的元素放后面\n",
    "        if array[i] < pivot:\n",
    "            i += 1\n",
    "        elif array[i] >= pivot:  \n",
    "            temp = array[j]\n",
    "            array[j] = array[i]\n",
    "            array[i] = temp\n",
    "            j -= 1\n",
    "    if array[i] < pivot:\n",
    "        i += 1\n",
    "    S1 = array[0 : i]\n",
    "    k = i\n",
    "    j = len(array) - 1\n",
    "    while i < j:  #将余下数组分成两部分，第一部分元素等于pivot,第二部分大于pivot\n",
    "        if array[i] == pivot:\n",
    "            i += 1\n",
    "        else:\n",
    "            temp = array[j]\n",
    "            array[j] = array[i]\n",
    "            array[i] = temp\n",
    "            j -= 1\n",
    "    if array[i] == pivot:\n",
    "        i += 1\n",
    "    S2 = array[k : i]\n",
    "    S3 = array[i:]\n",
    "    return S1, S2, S3\n",
    "            \n",
    "\n",
    "def  selection(array, k):\n",
    "    '''\n",
    "    查找数组中第k小元素\n",
    "    '''\n",
    "    if len(array) <= 1:\n",
    "        return array[0]\n",
    "    if k > len(array):\n",
    "        raise Exception('out of range')\n",
    "    \n",
    "    pivot = array[0]\n",
    "    is_good_pivot = False\n",
    "    while is_good_pivot != True:\n",
    "        pivot = random.choice(array)  #随机从数组中选取一个元素做pivot\n",
    "        S1, S2, S3 = arrange_array_by_pivot(array, pivot)\n",
    "        if len(S1) <= int((3/4)*len(array)) and len(S3) <= int((3/4)*len(array)):\n",
    "            is_good_pivot = True\n",
    "    if len(S1) > 0 and k <= len(S1): #在第一个集合进行递归\n",
    "        return selection(S1, k)\n",
    "    elif len(S2) > 0 and k <= len(S1) + len(S2):\n",
    "        return pivot\n",
    "    else:\n",
    "        return selection(S3, k - len(S1) - len(S2))  #在第3个集合中递归\n",
    "    raise Exception('error')\n"
   ]
  },
  {
   "cell_type": "code",
   "execution_count": 117,
   "metadata": {},
   "outputs": [],
   "source": [
    "def  partion(A, pivot):  #将数组按照pivot分成两部分，前一部分小于等于pivot，后一部分大于pivot\n",
    "    i = 0\n",
    "    j = len(A) - 1\n",
    "    while i < j:\n",
    "        if A[i] > pivot:\n",
    "            temp = A[i]\n",
    "            A[i] = A[j]\n",
    "            A[j] = temp\n",
    "            j -= 1\n",
    "        else:\n",
    "            i += 1\n",
    "    if A[i] > pivot:\n",
    "        i -= 1\n",
    "    return i \n",
    "def  quick_sort(A):\n",
    "    if len(A) == 0:\n",
    "        return []\n",
    "    if len(A) == 1:\n",
    "        return A\n",
    "    pivot  = selection(A, int(len(A) / 2)) #选择中位数这样能将数组分割成元素相当的两部分\n",
    "    mark = partion(A, pivot)\n",
    "    first_part = quick_sort(A[0 : mark+1])\n",
    "    second_part = quick_sort(A[mark+1: ])\n",
    "    first_part.extend(second_part)\n",
    "    return first_part\n"
   ]
  },
  {
   "cell_type": "code",
   "execution_count": 118,
   "metadata": {},
   "outputs": [
    {
     "name": "stdout",
     "output_type": "stream",
     "text": [
      "[2, 4, 5, 6, 7, 8, 9, 11, 12, 13, 19, 21]\n"
     ]
    }
   ],
   "source": [
    "A = [13, 19, 9, 5, 12, 8, 7, 4, 21, 2, 6, 11]\n",
    "A = quick_sort(A)\n",
    "print(A)\n"
   ]
  },
  {
   "cell_type": "code",
   "execution_count": 120,
   "metadata": {},
   "outputs": [
    {
     "name": "stdout",
     "output_type": "stream",
     "text": [
      "[2, 4, 5, 6, 7, 8, 9, 11, 12, 13, 19, 21]\n"
     ]
    }
   ],
   "source": [
    "def  partion_for_tail(A, begin ,end , pivot):  #将数组按照pivot分成两部分，前一部分小于等于pivot，后一部分大于pivot\n",
    "    i = begin\n",
    "    j = end\n",
    "    while i < j:\n",
    "        if A[i] > pivot:  #确保比pivot小的元素排在前面\n",
    "            temp = A[i]\n",
    "            A[i] = A[j]\n",
    "            A[j] = temp\n",
    "            j -= 1\n",
    "        else:\n",
    "            i += 1\n",
    "    if A[i] > pivot:\n",
    "        i -= 1\n",
    "    return i \n",
    "def  tail_recursive_quicksort(A, begin, end):\n",
    "    while begin < end:  #1 通过循环来替代递归\n",
    "        pivot  = selection(A[begin:end+1], int((end - begin) / 2)) #选择中位数这样能将数组分割成元素相当的两部分\n",
    "        mark = partion_for_tail(A, begin, end, pivot) #2\n",
    "        tail_recursive_quicksort(A, begin, mark ) #3 递归排序上半部分\n",
    "        begin = mark + 1 #4 将begin指向下半部分的起始位置\n",
    "    return  A\n",
    "A = [13, 19, 9, 5, 12, 8, 7, 4, 21, 2, 6, 11]\n",
    "A = tail_recursive_quicksort(A, 0, len(A) - 1)\n",
    "print(A)\n"
   ]
  },
  {
   "cell_type": "code",
   "execution_count": 122,
   "metadata": {},
   "outputs": [],
   "source": [
    "class Interval:\n",
    "    def  __init__(self, a, b):#初始化需要输入区间的起点和结尾\n",
    "        if a > b:\n",
    "            raise Exception(\"error interval\")\n",
    "        self.begin = a\n",
    "        self.end = b\n",
    "        self.absortionMap = {}\n",
    "    def  absorb(self, other_interval): #是否吸收给定区间\n",
    "        is_overlap = False\n",
    "        if other_interval is None:\n",
    "            return is_overlap\n",
    "        if self.begin <= other_interval.begin and other_interval.begin <= self.end:\n",
    "            is_overlap = True\n",
    "        if self.begin >= other_interval.begin and self.begin <= other_interval.end:\n",
    "            is_overlap = True\n",
    "        if is_overlap is True:\n",
    "            overlap_begin = max(self.begin, other_interval.begin)\n",
    "            overlap_end = min(self.end, other_interval.end)\n",
    "            overlap = Interval(overlap_begin, overlap_end)\n",
    "            self.absortionMap[other_interval] = overlap\n",
    "        return is_overlap\n",
    "    def __str__(self):\n",
    "        return \"[{0}, {1}]\".format(self.begin, self.end)\n",
    "    def  print_points (self):  #打印该区间以及与该区间重叠区间的对应实数点\n",
    "        for key in self.absortionMap:\n",
    "            point_in_overlap = (self.absortionMap[key].begin + self.absortionMap[key].end) / 2\n",
    "            print(\"{0} -> {1}\".format(point_in_overlap, key))\n",
    "        print(\"{0} -> {1}\".format(self.end, self))"
   ]
  },
  {
   "cell_type": "code",
   "execution_count": 125,
   "metadata": {},
   "outputs": [
    {
     "name": "stdout",
     "output_type": "stream",
     "text": [
      "True\n",
      "True\n",
      "False\n",
      "1.75 -> [1.5, 2]\n",
      "1.1 -> [0.5, 1.2]\n",
      "2 -> [1, 2]\n"
     ]
    }
   ],
   "source": [
    "i1 = Interval(1, 2)\n",
    "i2 = Interval(1.5, 2)\n",
    "i3 = Interval(0.5, 1.2)\n",
    "print(i1.absorb(i2))\n",
    "print(i1.absorb(i3))\n",
    "print(i2.absorb(i3))\n",
    "i1. print_points ()\n"
   ]
  },
  {
   "cell_type": "code",
   "execution_count": 126,
   "metadata": {},
   "outputs": [],
   "source": [
    "def  partition_intervals(intervals, pivot_interval):  #按照区间左边界进行区分，如果区间与pivot对应区间有重叠那么就会被吸收掉\n",
    "    A = []\n",
    "    for interval in intervals:  #获取不被pivot区间吸收的区间\n",
    "        if interval == pivot_interval:\n",
    "            A.append(interval)\n",
    "        elif  pivot_interval.absorb(interval) is not True:\n",
    "            A.append(interval)\n",
    "        else:\n",
    "            print(\"{0} absorb {1}\".format(pivot_interval, interval))   \n",
    "    i = 0\n",
    "    j = len(A) - 1\n",
    "    while i < j:   #对每被吸收的区间进行排列\n",
    "        if A[i].begin > pivot_interval.begin:\n",
    "            temp = A[i]\n",
    "            A[i] = A[j]\n",
    "            A[j] = temp\n",
    "            j -= 1\n",
    "        else:\n",
    "            i += 1\n",
    "    if A[i].begin > pivot_interval.begin:\n",
    "        i -= 1\n",
    "    return A, i\n"
   ]
  },
  {
   "cell_type": "code",
   "execution_count": 127,
   "metadata": {},
   "outputs": [],
   "source": [
    "def quick_sort_intervals(intervals): #将区间按照左边界点快速排序\n",
    "    if len(intervals) == 0:\n",
    "        return []\n",
    "    if len(intervals) == 1:\n",
    "        return intervals\n",
    "    lefts = []\n",
    "    for interval in intervals:  #获取所有区间左边界点并选出pivot区间\n",
    "        lefts.append(interval.begin)\n",
    "    left_pivot = selection(lefts, int(len(lefts) / 2))\n",
    "    pivot_interval = None\n",
    "    for interval in intervals:  \n",
    "        if interval.begin == left_pivot:\n",
    "            pivot_interval = interval\n",
    "            break     \n",
    "    intervals, mark = partition_intervals(intervals, pivot_interval) #将区间根据pivot区间进行划分,这里会有区间的吸收\n",
    "    first_parts = quick_sort_intervals(intervals[0: mark + 1])\n",
    "    second_parts = quick_sort_intervals(intervals[mark + 1 : ])\n",
    "    first_parts.extend(second_parts)\n",
    "    return first_parts\n"
   ]
  },
  {
   "cell_type": "code",
   "execution_count": 128,
   "metadata": {},
   "outputs": [
    {
     "name": "stdout",
     "output_type": "stream",
     "text": [
      "[4.6, 4.83]\n",
      "[5.91, 9.86]\n",
      "[6.3, 8.16]\n",
      "[4.6, 7.48]\n",
      "[1.25, 6.71]\n",
      "[2.42, 4.24]\n",
      "[5.38, 5.77]\n",
      "[3.18, 6.82]\n",
      "[4.17, 8.51]\n",
      "[4.91, 7.1]\n"
     ]
    }
   ],
   "source": [
    "import random\n",
    "def  generate_intervals(num): #生成给定个数的区间\n",
    "    count = 0\n",
    "    intervals = []\n",
    "    while count < num: #将生成的随机区间起始点控制在两位小数\n",
    "        a = float(\"{0:.2f}\".format(random.uniform(0, 10)))  \n",
    "        b = float(\"{0:.2f}\".format(random.uniform(0, 10)))\n",
    "        intervals.append(Interval(min(a, b), max(a, b)))\n",
    "        count += 1\n",
    "    return intervals\n",
    "intervals = generate_intervals(10)\n",
    "for interval in intervals:\n",
    "    print(interval)\n"
   ]
  },
  {
   "cell_type": "code",
   "execution_count": 129,
   "metadata": {},
   "outputs": [
    {
     "name": "stdout",
     "output_type": "stream",
     "text": [
      "[4.6, 4.83] absorb [4.6, 7.48]\n",
      "[4.6, 4.83] absorb [1.25, 6.71]\n",
      "[4.6, 4.83] absorb [3.18, 6.82]\n",
      "[4.6, 4.83] absorb [4.17, 8.51]\n",
      "[5.38, 5.77] absorb [4.91, 7.1]\n",
      "[5.91, 9.86] absorb [6.3, 8.16]\n",
      "4.24 -> [2.42, 4.24]\n",
      "4.715 -> [4.6, 7.48]\n",
      "4.715 -> [1.25, 6.71]\n",
      "4.715 -> [3.18, 6.82]\n",
      "4.715 -> [4.17, 8.51]\n",
      "4.83 -> [4.6, 4.83]\n",
      "5.574999999999999 -> [4.91, 7.1]\n",
      "5.77 -> [5.38, 5.77]\n",
      "7.23 -> [6.3, 8.16]\n",
      "9.86 -> [5.91, 9.86]\n"
     ]
    }
   ],
   "source": [
    "A = quick_sort_intervals(intervals)\n",
    "for a in A:\n",
    "    a.print_points()\n"
   ]
  },
  {
   "cell_type": "code",
   "execution_count": 150,
   "metadata": {},
   "outputs": [
    {
     "name": "stdout",
     "output_type": "stream",
     "text": [
      "before sort : [32, 78, 64, 14, 90, 24, 43, 74, 97, 37, 31, 37, 6, 20, 7, 58, 29, 62, 22, 0]\n",
      "after sort: [0, 6, 7, 14, 20, 22, 24, 29, 31, 32, 37, 37, 43, 58, 62, 64, 74, 78, 90, 97]\n"
     ]
    }
   ],
   "source": [
    "def  counting_sort(A):\n",
    "    k = 0\n",
    "    for element in A:\n",
    "        if isinstance(element, int) is False or element < 0:  #计数排序要求每个元素必须是整数且大于0\n",
    "            raise Exception(\"element has to be integer and no minus\")\n",
    "        if element > k:\n",
    "            k = element\n",
    "    buffer_array = []\n",
    "    for i in range(0, k + 1): #根据最大值元素创建新数组，并初始化为0\n",
    "        buffer_array.append(0)\n",
    "    for element in A: #遍历数组每个元素,在数组buffer_array中进行计数\n",
    "        buffer_array[element] += 1\n",
    "    for i in range(1, len(buffer_array)): #将buffer_array中的元素前后相加\n",
    "        buffer_array[i] = buffer_array[i - 1] + buffer_array[i]  \n",
    "    sorted_array = []\n",
    "    for i in range(0, len(A)):  #构建与数组A元素个数相同的新数组\n",
    "        sorted_array.append(0)\n",
    "    A = A[::-1]\n",
    "    for element in A:  #根据buffer_array中对元素的计数在新数组中排序\n",
    "        position = buffer_array[element]\n",
    "        sorted_array[position - 1] = element\n",
    "        buffer_array[element] -= 1\n",
    "    return sorted_array\n",
    "\n",
    "N = 20\n",
    "A = []\n",
    "for i in range(N):  #构造含有给定元素个数的整形数组\n",
    "    A.append(random.randint(0, 100))  \n",
    "print(\"before sort : {0}\".format(A))\n",
    "sorted_A = counting_sort(A)\n",
    "print(\"after sort: {0}\".format(sorted_A))"
   ]
  },
  {
   "cell_type": "code",
   "execution_count": 153,
   "metadata": {},
   "outputs": [],
   "source": [
    "def  radix_counting_sort(A, values, bin_values):  #A对应截取二进制段对应值,vaules对应原值，bin_values对应原值的二进制形式\n",
    "    k = 0\n",
    "    for element in A:\n",
    "        if isinstance(element, int) is False or element < 0:  #计数排序要求每个元素必须是整数且大于0\n",
    "            raise Exception(\"element has to be integer and no minus\")\n",
    "        if element > k:\n",
    "            k = element\n",
    "    buffer_array = []\n",
    "    for i in range(0, k + 1): #根据最大值元素创建新数组，并初始化为0\n",
    "        buffer_array.append(0)\n",
    "    for element in A: #遍历数组每个元素,在数组buffer_array中进行计数\n",
    "        buffer_array[element] += 1\n",
    "    for i in range(1, len(buffer_array)): #将buffer_array中的元素前后相加\n",
    "        buffer_array[i] = buffer_array[i - 1] + buffer_array[i]  \n",
    "    sorted_array = []\n",
    "    sorted_array_values = []\n",
    "    sorted_array_bin_values = []\n",
    "    for i in range(0, len(A)):  #构建与数组A元素个数相同的新数组\n",
    "        sorted_array.append(0)\n",
    "        sorted_array_values.append(0)\n",
    "        sorted_array_bin_values.append(0)\n",
    "    A = A[::-1]\n",
    "    values = values[::-1]\n",
    "    bin_values = bin_values[::-1]\n",
    "    for element, value, bin_value in zip(A, values, bin_values):  #根据buffer_array中对元素的计数在新数组中排序\n",
    "        position = buffer_array[element]\n",
    "        sorted_array[position - 1] = element\n",
    "        sorted_array_values[position - 1] = value \n",
    "        sorted_array_bin_values[position - 1] = bin_value\n",
    "        buffer_array[element] -= 1\n",
    "    return sorted_array, sorted_array_values, sorted_array_bin_values\n",
    "\n",
    "import math\n",
    "def  radix_sort(A):\n",
    "    b = 0\n",
    "    for element in A:  #获得元素值对应比特位\n",
    "        if element.bit_length() > b:\n",
    "            b = element.bit_length()\n",
    "    '''\n",
    "    下面代码把元素转换成二进制字符串,例如A=[10, 9, 2, 1],将元素对应的二进制为[0b1010, 0b1001, 0b10, 0b01],\n",
    "    由于数值中比特位个数最多为4,因此我们需要把所有元素对应的二进制比特位扩展成4,也就是将元素的二进制形式转换为：\n",
    "    [0b1010, 0b1001, 0b0010, 0b0001]\n",
    "    '''\n",
    "    bin_A = []\n",
    "    for element in A:\n",
    "        bin_element = ''\n",
    "        l = b - element.bit_length()\n",
    "        while l > 0:  #将所有元素转换成比特位长度相同的字符串\n",
    "            bin_element += '0'  \n",
    "            l -= 1    \n",
    "        bin_element += bin(element)[2: ] #越过开头两个字符,也就是'0b'\n",
    "        bin_A.append(bin_element) #对二进制字符串进行倒转\n",
    "    n = len(A)\n",
    "    r = int (math.log(n, 2))\n",
    "    if b <= math.log(n, 2):\n",
    "        r = b\n",
    "    count = math.ceil(b / r)\n",
    "    end = b\n",
    "    while count > 0:\n",
    "        begin = end - r\n",
    "        values_for_sort = []\n",
    "        for element in bin_A:\n",
    "            if begin < 0:\n",
    "                begin = 0\n",
    "            v = int('0b' + element[begin : end], 2)  #从给定位置抽取出比特位，合成对应的整数以便进行计数排序\n",
    "            values_for_sort.append(v)\n",
    "        V, A, bin_A = radix_counting_sort(values_for_sort, A, bin_A)\n",
    "        count -= 1\n",
    "        end -= r\n",
    "    return A"
   ]
  },
  {
   "cell_type": "code",
   "execution_count": 154,
   "metadata": {},
   "outputs": [
    {
     "name": "stdout",
     "output_type": "stream",
     "text": [
      "[1, 2, 9, 10]\n"
     ]
    }
   ],
   "source": [
    "A = [10, 9, 2, 1]\n",
    "A = radix_sort(A)\n",
    "print(A)"
   ]
  },
  {
   "cell_type": "code",
   "execution_count": 156,
   "metadata": {},
   "outputs": [
    {
     "name": "stdout",
     "output_type": "stream",
     "text": [
      "before radix sort: [114, 591, 979, 952, 836, 944, 272, 456, 760, 167, 393, 283, 173, 212, 717, 857, 799, 45, 984, 696]\n",
      "after radix sort: [45, 114, 167, 173, 212, 272, 283, 393, 456, 591, 696, 717, 760, 799, 836, 857, 944, 952, 979, 984]\n"
     ]
    }
   ],
   "source": [
    "N = 20\n",
    "A = []\n",
    "for i in range(N):\n",
    "    A.append(random.randint(1, 1000))\n",
    "print(\"before radix sort: {0}\".format(A))\n",
    "A = radix_sort(A)\n",
    "print(\"after radix sort: {0}\".format(A))"
   ]
  },
  {
   "cell_type": "code",
   "execution_count": null,
   "metadata": {},
   "outputs": [],
   "source": []
  }
 ],
 "metadata": {
  "kernelspec": {
   "display_name": "Python 3",
   "language": "python",
   "name": "python3"
  },
  "language_info": {
   "codemirror_mode": {
    "name": "ipython",
    "version": 3
   },
   "file_extension": ".py",
   "mimetype": "text/x-python",
   "name": "python",
   "nbconvert_exporter": "python",
   "pygments_lexer": "ipython3",
   "version": "3.7.2"
  }
 },
 "nbformat": 4,
 "nbformat_minor": 2
}

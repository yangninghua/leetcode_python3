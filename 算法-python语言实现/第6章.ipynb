{
 "cells": [
  {
   "cell_type": "code",
   "execution_count": 3,
   "metadata": {},
   "outputs": [
    {
     "name": "stdout",
     "output_type": "stream",
     "text": [
      "index of no basic variables after pivoting:  [6, 2, 3]\n",
      "index of basic variables after pivoting:  [4, 5, 1]\n",
      "coefficients of no basic variables after pivoting:  [[-0.25, 0.75, 2.5], [-0.5, 1.5, 4.0], [0.25, 0.25, 0.5]]\n",
      "object function coefficients after pivoting is :  [-0.75, 0.25, 0.5]\n",
      "object function value after pivoting is :  27.0\n"
     ]
    }
   ],
   "source": [
    "def  pivot(N, B, A, b, c, v, l, e):\n",
    "    '''\n",
    "    N对应非基本元变量下标,B对应基本元变量下标,A对应非基本元在约束方程组中的系数相反数形成的矩阵,\n",
    "    b对应约束条件中小于等于号右边的数值集合,c对应目标函数中变量系数形成的集合,v对应当前目标函数的取值,\n",
    "    l对应转出变量下标在B中的位置，e对应转入变量下标在N中的位置\n",
    "    '''\n",
    "    b[l] = b[l] / A[l][e]  #将给定等式的常数和除了传入变量意外的其他变量对应的系数除以转入变量对应的系数\n",
    "    for j in range(len(A[0])):\n",
    "        if j == e:\n",
    "            continue\n",
    "        A[l][j] = A[l][j] / A[l][e]\n",
    "    A[l][e] = 1 / A[l][e]  #这是等号左边变量转入右边后对应的系数\n",
    "    for i in range(len(A)):  #改变其他等式常数和变量系数\n",
    "        if i == l:\n",
    "            continue\n",
    "        b[i] = b[i] - A[i][e] * b[l]\n",
    "        for j in range(len(A[0])): \n",
    "            if j == e:\n",
    "                continue\n",
    "            A[i][j] = A[i][j] - A[i][e] * A[l][j]\n",
    "        A[i][e] = -A[i][e] * A[l][e]  #由于A中元素对应约束条件中变量系数的相反数,因此A中元素相乘后符号会负负得正，因此前面要加个负号\n",
    "    v = v + c[e] * b[l]  #变量替换后目标修改目标函数的值\n",
    "    for j in range(len(c)):  #目标函数中转出变量替换成转入变量后修改相关xishu7\n",
    "        if j == e:\n",
    "            continue\n",
    "        c[j] = c[j] - c[e] * A[l][j]\n",
    "    c[e] =  -c[e] * A[l][e]\n",
    "    leaving_variable_index = B[l]\n",
    "    entering_variable_index = N[e]\n",
    "    B[l] = entering_variable_index\n",
    "    N[e] = leaving_variable_index\n",
    "    return  (N, B, A, b, c, v)\n",
    "A = [\n",
    "    [1, 1, 3],\n",
    "    [2, 2, 5],\n",
    "    [4, 1, 2]\n",
    "    ]\n",
    "B = [4, 5, 6]\n",
    "N = [1, 2, 3]\n",
    "b = [30, 24, 36]\n",
    "c = [3, 1, 2]\n",
    "v = 0\n",
    "l = 2 \n",
    "e = 0\n",
    "(N, B, A, b, c, v)=pivot(N, B, A, b, c,v, l, e)\n",
    "print(\"index of no basic variables after pivoting: \", N)\n",
    "print(\"index of basic variables after pivoting: \", B)\n",
    "print(\"coefficients of no basic variables after pivoting: \", A)\n",
    "print(\"object function coefficients after pivoting is : \", c)\n",
    "print(\"object function value after pivoting is : \", v)"
   ]
  },
  {
   "cell_type": "code",
   "execution_count": 7,
   "metadata": {},
   "outputs": [
    {
     "name": "stdout",
     "output_type": "stream",
     "text": [
      "x4 : 18.0\n",
      "x2 : 4.0\n",
      "x1 : 8.0\n",
      "x6 : 0\n",
      "x5 : 0\n",
      "x3 : 0\n",
      "optimal value is :  28.0\n"
     ]
    },
    {
     "data": {
      "text/plain": [
       "([6, 5, 3],\n",
       " [4, 2, 1],\n",
       " [[0.0, -0.5, 0.5],\n",
       "  [-0.3333333333333333, 0.6666666666666666, 2.6666666666666665],\n",
       "  [0.3333333333333333, -0.16666666666666666, -0.16666666666666663]],\n",
       " [18.0, 4.0, 8.0],\n",
       " [-0.6666666666666666, -0.16666666666666666, -0.16666666666666663],\n",
       " 28.0)"
      ]
     },
     "execution_count": 7,
     "metadata": {},
     "output_type": "execute_result"
    }
   ],
   "source": [
    "import sys\n",
    "def  simplex(N, B, A, b, c, v):\n",
    "    mini_increase = sys.maxsize\n",
    "    l = 0\n",
    "    for e in range(len(c)): #在目标函数中找到系数大于0的对应变量\n",
    "        if c[e] <= 0:\n",
    "            continue\n",
    "        for i in range(len(A)): #看哪个约束条件能让给定变量的增加值最小\n",
    "            if  A[i][e] > 0 and b[i] / A[i][e] < mini_increase:\n",
    "                mini_increase = b[i] / A[i][e]\n",
    "                l = i\n",
    "        if mini_increase == sys.maxsize: #目标函数没有最优解,它可以无限制增长\n",
    "            return False\n",
    "        (N, B, A, b, c, v) = pivot(N, B, A, b, c, v, l, e)\n",
    "    for i in range(len(B)):\n",
    "        print(\"x{0} : {1}\".format(B[i], b[i]))\n",
    "    for i in range(len(N)):\n",
    "        print(\"x{0} : 0\".format(N[i]))\n",
    "    print(\"optimal value is : \" , v)\n",
    "    return (N, B, A, b, c, v)\n",
    "A = [\n",
    "    [1, 1, 3],\n",
    "    [2, 2, 5],\n",
    "    [4, 1, 2]\n",
    "    ]\n",
    "B = [4, 5, 6]\n",
    "N = [1, 2, 3]\n",
    "b = [30, 24, 36]\n",
    "c = [3, 1, 2]\n",
    "v = 0\n",
    "simplex(N, B, A, b, c, v)"
   ]
  },
  {
   "cell_type": "code",
   "execution_count": 8,
   "metadata": {},
   "outputs": [],
   "source": [
    "def  is_system_feasible(A, b, c):\n",
    "    has_to_check = False\n",
    "    for k in range(len(b)): #先检验是否存在小于0的常数\n",
    "        if b[k] < 0:\n",
    "            has_to_check = True\n",
    "            break\n",
    "    index = 1\n",
    "    N = []\n",
    "    B = []\n",
    "    v = 0\n",
    "    for i in range(len(A[0])): #设置非基本远变量的下标\n",
    "        N.append(index)\n",
    "        index += 1\n",
    "    for i in range(len(A)): #设置基本远的下标\n",
    "        B.append(index)\n",
    "        index += 1\n",
    "    if has_to_check is False:  #系统存在最优解,返回它的标准形式\n",
    "        return True\n",
    "    N_copy = N.copy()\n",
    "    N_copy.insert(0, 0)  #加入新变量x0的下标\n",
    "    B_copy = B.copy()\n",
    "    b_copy = b.copy()\n",
    "    c_copy = [-1, 0, 0] #目标函数只有一个参数-x0\n",
    "    A_copy = A.copy()\n",
    "    for i in range(len(A)):\n",
    "        A_copy[i].insert(0, -1)  #每个约束条件都添加x0\n",
    "    l = k\n",
    "    (N_copy, B_copy, A_copy, b_copy, c_copy, v) = pivot(N_copy, B_copy, A_copy, b_copy, c_copy, v, l, 0)  #转换目标函数使得它包含有系数为正的变量\n",
    "    (N_copy, B_copy, A_copy, b_copy, c_copy, v) = simplex(N_copy, B_copy, A_copy, b_copy, c_copy, v)\n",
    "    for i in range(len(B_copy)):\n",
    "        if B_copy[i] == 0 and b[i] != 0:\n",
    "            return False\n",
    "    return True"
   ]
  },
  {
   "cell_type": "code",
   "execution_count": 9,
   "metadata": {},
   "outputs": [
    {
     "name": "stdout",
     "output_type": "stream",
     "text": [
      "x3 : 6.0\n",
      "x0 : 4.0\n",
      "x4 : 0\n",
      "x1 : 0\n",
      "x2 : 0\n",
      "optimal value is :  -4.0\n",
      "the given system is infeasible\n"
     ]
    }
   ],
   "source": [
    "A=[[2, -1], [1, 5]]\n",
    "c = [2, -1]\n",
    "b = [2, -4]\n",
    "v = 0\n",
    "res = is_system_feasible(A, b, c)\n",
    "if res is True:\n",
    "    print(\"the given system is feasible\")\n",
    "else:\n",
    "    print(\"the given system is infeasible\")"
   ]
  },
  {
   "cell_type": "code",
   "execution_count": null,
   "metadata": {},
   "outputs": [],
   "source": []
  }
 ],
 "metadata": {
  "kernelspec": {
   "display_name": "Python 3",
   "language": "python",
   "name": "python3"
  },
  "language_info": {
   "codemirror_mode": {
    "name": "ipython",
    "version": 3
   },
   "file_extension": ".py",
   "mimetype": "text/x-python",
   "name": "python",
   "nbconvert_exporter": "python",
   "pygments_lexer": "ipython3",
   "version": "3.7.2"
  }
 },
 "nbformat": 4,
 "nbformat_minor": 2
}

{
 "cells": [
  {
   "cell_type": "code",
   "execution_count": 2,
   "metadata": {},
   "outputs": [
    {
     "name": "stdout",
     "output_type": "stream",
     "text": [
      "the max sub array is [18, 20, -7, 12] and sum is: 43\n"
     ]
    }
   ],
   "source": [
    "import sys\n",
    "def  find_max_crossing_subarray(array, mid):\n",
    "    '''\n",
    "    查找横跨作用两部分的最大子数组，也就是第三种情况\n",
    "    '''\n",
    "    max_sum = -sys.maxsize - 1\n",
    "    sum_now = 0\n",
    "    i = mid\n",
    "    left = i\n",
    "    while i >= 0:  #查找包含left_end的左边子数组\n",
    "        sum_now += array[i]\n",
    "        if sum_now > max_sum:\n",
    "            left = i  #记录下元素和最大时的元素下标\n",
    "            max_sum = sum_now\n",
    "        i -= 1\n",
    "    left_max = max_sum\n",
    "    j = mid + 1\n",
    "    sum_now = 0\n",
    "    right = j\n",
    "    max_sum = -sys.maxsize - 1\n",
    "    while j < len(array):  #查找包含right_begin的右边子数组\n",
    "        sum_now += array[j]\n",
    "        if sum_now > max_sum:\n",
    "            right = j\n",
    "            max_sum = sum_now\n",
    "        j += 1\n",
    "    right_max = max_sum\n",
    "    return array[left:right+1], left_max + right_max  \n",
    "def  find_max_subarray(array):\n",
    "    if len(array) <= 1:\n",
    "        return array, array[0]  #当数组元素个数小于等于1时，直接返回\n",
    "    left_part = array[0: int(len(array)/2)]  #将数组分割成两部分\n",
    "    right_part = array[int(len(array)/2):len(array)]\n",
    "    left_sub_array, left_max = find_max_subarray(left_part)  #递归求取左半部分最大子数组\n",
    "    right_sub_array, right_max = find_max_subarray(right_part) #递归求取有半部分最大子数组\n",
    "    crossing_sub_array, crossing_max = find_max_crossing_subarray(array, int(len(array)/2) - 1) #获得横跨左右两部分的最大子数组\n",
    "    max_sub_array, max_sum = left_sub_array, left_max\n",
    "    if right_max > left_max:\n",
    "        max_sub_array, max_sum = right_sub_array, right_max\n",
    "    if crossing_max > max_sum:\n",
    "        max_sub_array, max_sum = crossing_sub_array, crossing_max\n",
    "    return max_sub_array, max_sum  #三种情况中，元素和最大的数组就是整个数组的最大子数组\n",
    "array = [13, -3, -25, 20, -3, -16, -23, 18, 20, -7, 12, -5, -22, 15, -4, 7]\n",
    "sub_array, max_sum = find_max_subarray(array)\n",
    "print(\"the max sub array is {0} and sum is: {1}\".format(sub_array, max_sum))\n"
   ]
  },
  {
   "cell_type": "code",
   "execution_count": 3,
   "metadata": {},
   "outputs": [
    {
     "name": "stdout",
     "output_type": "stream",
     "text": [
      "the max sub array is [18, 20, -7, 12] and sum is: 43\n"
     ]
    }
   ],
   "source": [
    "def  linear_find_max_subarray(array):\n",
    "    '''\n",
    "    线性时间复杂度查找最大子数组\n",
    "    '''\n",
    "    left = 0\n",
    "    right = 0\n",
    "    i = left\n",
    "    j = right    \n",
    "    max_sum = -sys.maxsize - 1\n",
    "    sum_now = 0\n",
    "    while j < len(array):\n",
    "        sum_now += array[j]\n",
    "        if sum_now > max_sum: #元素和增大，调整相关变量记录当前元素构成的子数组\n",
    "            max_sum = sum_now\n",
    "            left = i\n",
    "            right = j\n",
    "        if sum_now < 0: #如果元素和小于0，那么[i:j]就不属于最大子数组的一部分\n",
    "            sum_now = 0\n",
    "            i = j + 1\n",
    "        j += 1\n",
    "    return   array[left:right+1], max_sum  \n",
    "            \n",
    "                \n",
    "array = [13, -3, -25, 20, -3, -16, -23, 18, 20, -7, 12, -5, -22, 15, -4, 7] \n",
    "max_subarray, max_sum = linear_find_max_subarray(array)\n",
    "print(\"the max sub array is {0} and sum is: {1}\".format(max_subarray, max_sum))"
   ]
  },
  {
   "cell_type": "code",
   "execution_count": 4,
   "metadata": {},
   "outputs": [
    {
     "name": "stdout",
     "output_type": "stream",
     "text": [
      "the element selected is :  11\n"
     ]
    }
   ],
   "source": [
    "import random\n",
    "\n",
    "def  arrange_array_by_pivot(array, pivot):\n",
    "    '''\n",
    "    将数组分割成三部分，第一部分元素小于pivot,第二部分等于pivot,第三部分大于pivot\n",
    "    '''\n",
    "    i = 0\n",
    "    j = len(array) - 1\n",
    "    while i < j:  #将数组分成两部分,小于pivot的元素放前面大于pivot的元素放后面\n",
    "        if array[i] < pivot:\n",
    "            i += 1\n",
    "        elif array[i] >= pivot:  \n",
    "            temp = array[j]\n",
    "            array[j] = array[i]\n",
    "            array[i] = temp\n",
    "            j -= 1\n",
    "    if array[i] < pivot:\n",
    "        i += 1\n",
    "    S1 = array[0 : i]\n",
    "    k = i\n",
    "    j = len(array) - 1\n",
    "    while i < j:  #将余下数组分成两部分，第一部分元素等于pivot,第二部分大于pivot\n",
    "        if array[i] == pivot:\n",
    "            i += 1\n",
    "        else:\n",
    "            temp = array[j]\n",
    "            array[j] = array[i]\n",
    "            array[i] = temp\n",
    "            j -= 1\n",
    "    if array[i] == pivot:\n",
    "        i += 1\n",
    "    S2 = array[k : i]\n",
    "    S3 = array[i:]\n",
    "    return S1, S2, S3\n",
    "            \n",
    "\n",
    "def  selection(array, k):\n",
    "    '''\n",
    "    查找数组中第k小元素\n",
    "    '''\n",
    "    if len(array) <= 1:\n",
    "        return array[0]\n",
    "    if k >= len(array):\n",
    "        return array[len(array) - 1]\n",
    "    \n",
    "    pivot = array[0]\n",
    "    is_good_pivot = False\n",
    "    while is_good_pivot != True:\n",
    "        pivot = random.choice(array)  #随机从数组中选取一个元素做pivot\n",
    "        S1, S2, S3 = arrange_array_by_pivot(array, pivot)\n",
    "        if len(S1) <= int((3/4)*len(array)) and len(S3) <= int((3/4)*len(array)):\n",
    "            is_good_pivot = True\n",
    "    if k <= len(S1): #在第一个集合进行递归\n",
    "        return selection(S1, k)\n",
    "    elif len(S1) < k and k <= len(S1) + len(S2):\n",
    "        return pivot\n",
    "    else:\n",
    "        return selection(S3, k - len(S1) - len(S2))  #在第3个集合中递归\n",
    "    raise Exception('error')\n",
    "\n",
    "array = [2, 36, 39, 5, 21, 8, 13, 11, 20, 5, 4, 1]\n",
    "#1， 2， 4， 5， 5， 8， 11， 13， 20， 21， 36 , 39\n",
    "k = 8  #总共有11个元素，中位数是第5大的元素对应元素5\n",
    "median = selection(array, k)\n",
    "print('the element selected is : ', median)"
   ]
  },
  {
   "cell_type": "code",
   "execution_count": 4,
   "metadata": {},
   "outputs": [
    {
     "name": "stdout",
     "output_type": "stream",
     "text": [
      "break array [38, 27, 43, 3, 9, 89, 64, 10] into subarray of [38, 27, 43, 3] and [9, 89, 64, 10]\n",
      "break array [38, 27, 43, 3] into subarray of [38, 27] and [43, 3]\n",
      "break array [38, 27] into subarray of [38] and [27]\n",
      "merge array [38] and [27] into array [27, 38]\n",
      "break array [43, 3] into subarray of [43] and [3]\n",
      "merge array [43] and [3] into array [3, 43]\n",
      "merge array [27, 38] and [3, 43] into array [3, 27, 38, 43]\n",
      "break array [9, 89, 64, 10] into subarray of [9, 89] and [64, 10]\n",
      "break array [9, 89] into subarray of [9] and [89]\n",
      "merge array [9] and [89] into array [9, 89]\n",
      "break array [64, 10] into subarray of [64] and [10]\n",
      "merge array [64] and [10] into array [10, 64]\n",
      "merge array [9, 89] and [10, 64] into array [9, 10, 64, 89]\n",
      "merge array [3, 27, 38, 43] and [9, 10, 64, 89] into array [3, 9, 10, 27, 38, 43, 64, 89]\n",
      "[3, 9, 10, 27, 38, 43, 64, 89]\n"
     ]
    }
   ],
   "source": [
    "array_for_animate = []\n",
    "\n",
    "def  merge_sort(array, verbose = True):\n",
    "    if len(array) <= 1:  #只有一个元素的数组已经排好序\n",
    "        return array\n",
    "    mid = int(len(array) / 2)\n",
    "    left = array[0 : mid]\n",
    "    right = array[mid : ]\n",
    "    array_for_animate.append(left)\n",
    "    array_for_animate.append(right)\n",
    "    if verbose is True:\n",
    "        print(\"break array {0} into subarray of {1} and {2}\".format(array, left, right))\n",
    "    left_sorted = merge_sort(left) #分别对两个子数组进行排序\n",
    "    right_sorted = merge_sort(right)\n",
    "    left_ptr = 0\n",
    "    right_ptr = 0\n",
    "    merge_array = []\n",
    "    while left_ptr < len(left_sorted) and right_ptr < len(right_sorted):\n",
    "        #合并两个已经排好序的数组\n",
    "        if left_sorted[left_ptr] <= right_sorted[right_ptr]:\n",
    "            merge_array.append(left_sorted[left_ptr])\n",
    "            left_ptr += 1\n",
    "        else:\n",
    "            merge_array.append(right_sorted[right_ptr])\n",
    "            right_ptr += 1\n",
    "        if left_ptr >= len(left_sorted):\n",
    "            merge_array.extend(right_sorted[right_ptr:])\n",
    "            break\n",
    "        elif right_ptr >= len(right_sorted):\n",
    "            merge_array.extend(left_sorted[left_ptr:])\n",
    "            break\n",
    "    if verbose is True:\n",
    "        print(\"merge array {0} and {1} into array {2}\".format(left_sorted, right_sorted, merge_array))\n",
    "    array_for_animate.append(merge_array)\n",
    "    return merge_array\n",
    "array = [38, 27, 43, 3, 9, 89, 64, 10]\n",
    "arr_sorted = merge_sort(array)\n",
    "print(arr_sorted)"
   ]
  },
  {
   "cell_type": "code",
   "execution_count": 7,
   "metadata": {},
   "outputs": [
    {
     "name": "stdout",
     "output_type": "stream",
     "text": [
      "break array [32  3 28  1 49 47 37 50 12 33 45 19 23 20 27  6 17 24 26 36 31  5 48 39\n",
      "  2 42 16 13 44 35 29 22 10  4 38 41  8  9  7 11 25 15 21 40 43 46 14 18\n",
      " 34 30] into subarray of [32  3 28  1 49 47 37 50 12 33 45 19 23 20 27  6 17 24 26 36 31  5 48 39\n",
      "  2] and [42 16 13 44 35 29 22 10  4 38 41  8  9  7 11 25 15 21 40 43 46 14 18 34\n",
      " 30]\n",
      "break array [32  3 28  1 49 47 37 50 12 33 45 19 23 20 27  6 17 24 26 36 31  5 48 39\n",
      "  2] into subarray of [32  3 28  1 49 47 37 50 12 33 45 19] and [23 20 27  6 17 24 26 36 31  5 48 39  2]\n",
      "break array [32  3 28  1 49 47 37 50 12 33 45 19] into subarray of [32  3 28  1 49 47] and [37 50 12 33 45 19]\n",
      "break array [32  3 28  1 49 47] into subarray of [32  3 28] and [ 1 49 47]\n",
      "break array [32  3 28] into subarray of [32] and [ 3 28]\n",
      "break array [ 3 28] into subarray of [3] and [28]\n",
      "merge array [3] and [28] into array [3, 28]\n",
      "merge array [32] and [3, 28] into array [3, 28, 32]\n",
      "break array [ 1 49 47] into subarray of [1] and [49 47]\n",
      "break array [49 47] into subarray of [49] and [47]\n",
      "merge array [49] and [47] into array [47, 49]\n",
      "merge array [1] and [47, 49] into array [1, 47, 49]\n",
      "merge array [3, 28, 32] and [1, 47, 49] into array [1, 3, 28, 32, 47, 49]\n",
      "break array [37 50 12 33 45 19] into subarray of [37 50 12] and [33 45 19]\n",
      "break array [37 50 12] into subarray of [37] and [50 12]\n",
      "break array [50 12] into subarray of [50] and [12]\n",
      "merge array [50] and [12] into array [12, 50]\n",
      "merge array [37] and [12, 50] into array [12, 37, 50]\n",
      "break array [33 45 19] into subarray of [33] and [45 19]\n",
      "break array [45 19] into subarray of [45] and [19]\n",
      "merge array [45] and [19] into array [19, 45]\n",
      "merge array [33] and [19, 45] into array [19, 33, 45]\n",
      "merge array [12, 37, 50] and [19, 33, 45] into array [12, 19, 33, 37, 45, 50]\n",
      "merge array [1, 3, 28, 32, 47, 49] and [12, 19, 33, 37, 45, 50] into array [1, 3, 12, 19, 28, 32, 33, 37, 45, 47, 49, 50]\n",
      "break array [23 20 27  6 17 24 26 36 31  5 48 39  2] into subarray of [23 20 27  6 17 24] and [26 36 31  5 48 39  2]\n",
      "break array [23 20 27  6 17 24] into subarray of [23 20 27] and [ 6 17 24]\n",
      "break array [23 20 27] into subarray of [23] and [20 27]\n",
      "break array [20 27] into subarray of [20] and [27]\n",
      "merge array [20] and [27] into array [20, 27]\n",
      "merge array [23] and [20, 27] into array [20, 23, 27]\n",
      "break array [ 6 17 24] into subarray of [6] and [17 24]\n",
      "break array [17 24] into subarray of [17] and [24]\n",
      "merge array [17] and [24] into array [17, 24]\n",
      "merge array [6] and [17, 24] into array [6, 17, 24]\n",
      "merge array [20, 23, 27] and [6, 17, 24] into array [6, 17, 20, 23, 24, 27]\n",
      "break array [26 36 31  5 48 39  2] into subarray of [26 36 31] and [ 5 48 39  2]\n",
      "break array [26 36 31] into subarray of [26] and [36 31]\n",
      "break array [36 31] into subarray of [36] and [31]\n",
      "merge array [36] and [31] into array [31, 36]\n",
      "merge array [26] and [31, 36] into array [26, 31, 36]\n",
      "break array [ 5 48 39  2] into subarray of [ 5 48] and [39  2]\n",
      "break array [ 5 48] into subarray of [5] and [48]\n",
      "merge array [5] and [48] into array [5, 48]\n",
      "break array [39  2] into subarray of [39] and [2]\n",
      "merge array [39] and [2] into array [2, 39]\n",
      "merge array [5, 48] and [2, 39] into array [2, 5, 39, 48]\n",
      "merge array [26, 31, 36] and [2, 5, 39, 48] into array [2, 5, 26, 31, 36, 39, 48]\n",
      "merge array [6, 17, 20, 23, 24, 27] and [2, 5, 26, 31, 36, 39, 48] into array [2, 5, 6, 17, 20, 23, 24, 26, 27, 31, 36, 39, 48]\n",
      "merge array [1, 3, 12, 19, 28, 32, 33, 37, 45, 47, 49, 50] and [2, 5, 6, 17, 20, 23, 24, 26, 27, 31, 36, 39, 48] into array [1, 2, 3, 5, 6, 12, 17, 19, 20, 23, 24, 26, 27, 28, 31, 32, 33, 36, 37, 39, 45, 47, 48, 49, 50]\n",
      "break array [42 16 13 44 35 29 22 10  4 38 41  8  9  7 11 25 15 21 40 43 46 14 18 34\n",
      " 30] into subarray of [42 16 13 44 35 29 22 10  4 38 41  8] and [ 9  7 11 25 15 21 40 43 46 14 18 34 30]\n",
      "break array [42 16 13 44 35 29 22 10  4 38 41  8] into subarray of [42 16 13 44 35 29] and [22 10  4 38 41  8]\n",
      "break array [42 16 13 44 35 29] into subarray of [42 16 13] and [44 35 29]\n",
      "break array [42 16 13] into subarray of [42] and [16 13]\n",
      "break array [16 13] into subarray of [16] and [13]\n",
      "merge array [16] and [13] into array [13, 16]\n",
      "merge array [42] and [13, 16] into array [13, 16, 42]\n",
      "break array [44 35 29] into subarray of [44] and [35 29]\n",
      "break array [35 29] into subarray of [35] and [29]\n",
      "merge array [35] and [29] into array [29, 35]\n",
      "merge array [44] and [29, 35] into array [29, 35, 44]\n",
      "merge array [13, 16, 42] and [29, 35, 44] into array [13, 16, 29, 35, 42, 44]\n",
      "break array [22 10  4 38 41  8] into subarray of [22 10  4] and [38 41  8]\n",
      "break array [22 10  4] into subarray of [22] and [10  4]\n",
      "break array [10  4] into subarray of [10] and [4]\n",
      "merge array [10] and [4] into array [4, 10]\n",
      "merge array [22] and [4, 10] into array [4, 10, 22]\n",
      "break array [38 41  8] into subarray of [38] and [41  8]\n",
      "break array [41  8] into subarray of [41] and [8]\n",
      "merge array [41] and [8] into array [8, 41]\n",
      "merge array [38] and [8, 41] into array [8, 38, 41]\n",
      "merge array [4, 10, 22] and [8, 38, 41] into array [4, 8, 10, 22, 38, 41]\n",
      "merge array [13, 16, 29, 35, 42, 44] and [4, 8, 10, 22, 38, 41] into array [4, 8, 10, 13, 16, 22, 29, 35, 38, 41, 42, 44]\n",
      "break array [ 9  7 11 25 15 21 40 43 46 14 18 34 30] into subarray of [ 9  7 11 25 15 21] and [40 43 46 14 18 34 30]\n",
      "break array [ 9  7 11 25 15 21] into subarray of [ 9  7 11] and [25 15 21]\n",
      "break array [ 9  7 11] into subarray of [9] and [ 7 11]\n",
      "break array [ 7 11] into subarray of [7] and [11]\n",
      "merge array [7] and [11] into array [7, 11]\n",
      "merge array [9] and [7, 11] into array [7, 9, 11]\n",
      "break array [25 15 21] into subarray of [25] and [15 21]\n",
      "break array [15 21] into subarray of [15] and [21]\n",
      "merge array [15] and [21] into array [15, 21]\n",
      "merge array [25] and [15, 21] into array [15, 21, 25]\n",
      "merge array [7, 9, 11] and [15, 21, 25] into array [7, 9, 11, 15, 21, 25]\n",
      "break array [40 43 46 14 18 34 30] into subarray of [40 43 46] and [14 18 34 30]\n",
      "break array [40 43 46] into subarray of [40] and [43 46]\n",
      "break array [43 46] into subarray of [43] and [46]\n",
      "merge array [43] and [46] into array [43, 46]\n",
      "merge array [40] and [43, 46] into array [40, 43, 46]\n",
      "break array [14 18 34 30] into subarray of [14 18] and [34 30]\n",
      "break array [14 18] into subarray of [14] and [18]\n",
      "merge array [14] and [18] into array [14, 18]\n",
      "break array [34 30] into subarray of [34] and [30]\n",
      "merge array [34] and [30] into array [30, 34]\n",
      "merge array [14, 18] and [30, 34] into array [14, 18, 30, 34]\n",
      "merge array [40, 43, 46] and [14, 18, 30, 34] into array [14, 18, 30, 34, 40, 43, 46]\n",
      "merge array [7, 9, 11, 15, 21, 25] and [14, 18, 30, 34, 40, 43, 46] into array [7, 9, 11, 14, 15, 18, 21, 25, 30, 34, 40, 43, 46]\n",
      "merge array [4, 8, 10, 13, 16, 22, 29, 35, 38, 41, 42, 44] and [7, 9, 11, 14, 15, 18, 21, 25, 30, 34, 40, 43, 46] into array [4, 7, 8, 9, 10, 11, 13, 14, 15, 16, 18, 21, 22, 25, 29, 30, 34, 35, 38, 40, 41, 42, 43, 44, 46]\n",
      "merge array [1, 2, 3, 5, 6, 12, 17, 19, 20, 23, 24, 26, 27, 28, 31, 32, 33, 36, 37, 39, 45, 47, 48, 49, 50] and [4, 7, 8, 9, 10, 11, 13, 14, 15, 16, 18, 21, 22, 25, 29, 30, 34, 35, 38, 40, 41, 42, 43, 44, 46] into array [1, 2, 3, 4, 5, 6, 7, 8, 9, 10, 11, 12, 13, 14, 15, 16, 17, 18, 19, 20, 21, 22, 23, 24, 25, 26, 27, 28, 29, 30, 31, 32, 33, 34, 35, 36, 37, 38, 39, 40, 41, 42, 43, 44, 45, 46, 47, 48, 49, 50]\n",
      "[1, 2, 3, 4, 5, 6, 7, 8, 9, 10, 11, 12, 13, 14, 15, 16, 17, 18, 19, 20, 21, 22, 23, 24, 25, 26, 27, 28, 29, 30, 31, 32, 33, 34, 35, 36, 37, 38, 39, 40, 41, 42, 43, 44, 45, 46, 47, 48, 49, 50]\n"
     ]
    }
   ],
   "source": [
    "N = 50  #设置数组包含200个元素\n",
    "array = np.arange(1, N + 1)\n",
    "random.shuffle(array) #将数组元素随机排列\n",
    "arr_sorted = merge_sort(array)\n",
    "print(arr_sorted)"
   ]
  },
  {
   "cell_type": "code",
   "execution_count": 13,
   "metadata": {},
   "outputs": [
    {
     "name": "stdout",
     "output_type": "stream",
     "text": [
      "[array([ 1,  2,  3,  4,  5,  6,  7,  8,  9, 10]), array([11, 12, 13, 14, 15, 16, 17, 18, 19, 20]), array([21, 22, 23, 24, 25, 26, 27, 28, 29, 30]), array([31, 32, 33, 34, 35, 36, 37, 38, 39, 40])]\n"
     ]
    }
   ],
   "source": [
    "def  create_k_sorted_arrays(k, n):  #创建k路排好序的数组,每个数组包含n个元素\n",
    "    begin = 1\n",
    "    end = n + 1\n",
    "    arrays=[]\n",
    "    if k == 0 or n == 0:\n",
    "        return arrays\n",
    "    arr_count = 1\n",
    "    while arr_count <= k:\n",
    "        array = np.arange(begin, end)\n",
    "        arrays.append(array)\n",
    "        arr_count += 1\n",
    "        begin = end\n",
    "        end = arr_count * n + 1\n",
    "    return arrays\n",
    "arrays = create_k_sorted_arrays(4, 10)\n",
    "print(arrays)"
   ]
  },
  {
   "cell_type": "code",
   "execution_count": 18,
   "metadata": {},
   "outputs": [
    {
     "name": "stdout",
     "output_type": "stream",
     "text": [
      "the final merged array is:  [1, 2, 3, 4, 5, 6, 7, 8, 9, 10, 11, 12, 13, 14, 15, 16, 17, 18, 19, 20, 21, 22, 23, 24, 25, 26, 27, 28, 29, 30, 31, 32, 33, 34, 35, 36, 37, 38, 39, 40]\n"
     ]
    }
   ],
   "source": [
    "def  merge_sorted_arrays(arrays):  \n",
    "    if len(arrays) == 0:\n",
    "        return arrays\n",
    "    if len(arrays) == 1:  #如果只有一个数组那已经合并完毕\n",
    "        return arrays[0]\n",
    "    first_half = arrays[0: int(len(arrays) / 2)]\n",
    "    second_half = arrays[int(len(arrays) / 2) : len(arrays)]\n",
    "    left_sorted = merge_sorted_arrays(first_half)  #将k路数组分成两部分，各自合并后再做总合并\n",
    "    right_sorted = merge_sorted_arrays(second_half)\n",
    "    left_ptr = 0\n",
    "    right_ptr = 0\n",
    "    merged_array = []\n",
    "    while left_ptr < len(left_sorted) and right_ptr < len(right_sorted):\n",
    "        if left_sorted[left_ptr] <= right_sorted[right_ptr]:  #比较两个指针指向元素，将较小一个放入新数组\n",
    "            merged_array.append(left_sorted[left_ptr])\n",
    "            left_ptr += 1\n",
    "        else:\n",
    "            merged_array.append(right_sorted[right_ptr])\n",
    "            right_ptr += 1\n",
    "        if left_ptr >= len(left_sorted):\n",
    "            merged_array.extend(right_sorted[right_ptr:])\n",
    "            break\n",
    "        elif right_ptr >= len(right_sorted):\n",
    "            merged_array.extend(left_sorted[left_ptr:])\n",
    "            break\n",
    "    return merged_array\n",
    "final_array = merge_sorted_arrays(arrays)\n",
    "print(\"the final merged array is: \", final_array)"
   ]
  },
  {
   "cell_type": "code",
   "execution_count": 6,
   "metadata": {},
   "outputs": [],
   "source": [
    "import numpy as np\n",
    "import matplotlib.pyplot as plot\n",
    "plot.axes(projection='polar')  #使用极坐标\n",
    "plot.title('Circle in polar format:r=1')\n",
    "rads = np.arange(0, (2*np.pi), 2*np.pi / 8) #设置8等分点\n",
    "for radian in rads:\n",
    "    plot.polar(radian,1,'o') \n",
    "plot.show()"
   ]
  },
  {
   "cell_type": "code",
   "execution_count": 7,
   "metadata": {},
   "outputs": [],
   "source": [
    "%matplotlib qt5\n",
    "import cmath\n",
    "import matplotlib.pyplot as plt\n",
    "import math\n",
    "def  create_n_complex_roots(n):  #构造n次复方根\n",
    "    nth_roots = []\n",
    "    for k in range(n):\n",
    "        w_k = complex(math.cos(2*k*np.pi / n), math.sin(2*k*np.pi / n))\n",
    "        nth_roots.append(w_k)\n",
    "    return nth_roots\n",
    "nth_roots = create_n_complex_roots(16)\n",
    "polar = []\n",
    "for root in nth_roots:  #将复数转换为对应的极坐标\n",
    "    polar.append(cmath.polar(root))\n",
    "for r in polar:\n",
    "    plt.polar(r[1], r[0], 'o')  #r[1]对应复数在极坐标的度数,r[0]对应复数在极坐标的度数"
   ]
  },
  {
   "cell_type": "code",
   "execution_count": 22,
   "metadata": {},
   "outputs": [],
   "source": [
    "def  fast_fourier_transform(coefficients):  #传入多项式系数数组,确保多项式维度是2的指数\n",
    "    if len(coefficients) <= 1:\n",
    "        return coefficients\n",
    "    degree = len(coefficients)\n",
    "    n_complex_roots = create_n_complex_roots(degree)  #1 创建n次复方根\n",
    "    even_coefficients = coefficients[0 : degree : 2]  #2 获取偶数项系数\n",
    "    odd_coefficients = coefficients[1 : degree : 2] #3 获取奇数项系数\n",
    "    even_fft = fast_fourier_transform(even_coefficients) #4  根据公式（27）计算右边第一部分\n",
    "    odd_fft = fast_fourier_transform(odd_coefficients)  #5 根据公式（27）计算右边第二部分\n",
    "    fft_first_part = []\n",
    "    fft_second_part = []\n",
    "    for k in range(0, int(degree / 2)):  #6 根据公式（27）将两个结果合并起来\n",
    "        w = n_complex_roots[k]\n",
    "        fft_first_part.append(even_fft[k] + w * odd_fft[k])\n",
    "        fft_second_part.append(even_fft[k] - w * odd_fft[k])  #7根据(30)n次复方根中下半部是上半部的相反数\n",
    "    fft = []\n",
    "    fft.extend(fft_first_part)\n",
    "    fft.extend(fft_second_part)\n",
    "    return fft"
   ]
  },
  {
   "cell_type": "code",
   "execution_count": 23,
   "metadata": {},
   "outputs": [
    {
     "name": "stdout",
     "output_type": "stream",
     "text": [
      "polynominal coefficients are:  [0 1 2 3 4 5 6 7]\n",
      "fast fourier results are :  [(28+0j), (-4-9.65685424949238j), (-4-4j), (-4-1.6568542494923797j), (-4+0j), (-3.9999999999999996+1.6568542494923797j), (-3.9999999999999996+4j), (-3.9999999999999987+9.65685424949238j)]\n"
     ]
    }
   ],
   "source": [
    "import numpy as np\n",
    "degree = 8\n",
    "coefficients = np.arange(degree)#创建多项式参数[0,1,2,3,4,5,6,7]\n",
    "print(\"polynominal coefficients are: \",coefficients)\n",
    "\n",
    "fft_results = fast_fourier_transform(coefficients)\n",
    "print(\"fast fourier results are : \", fft_results)"
   ]
  },
  {
   "cell_type": "code",
   "execution_count": 24,
   "metadata": {},
   "outputs": [
    {
     "name": "stdout",
     "output_type": "stream",
     "text": [
      "[(2.220446049250313e-16+0j), (1.0000000000000002-2.2776579365114115e-16j), (2+9.957992501029599e-17j), (3-2.1632341619892146e-16j), (4+0j), (5+2.1632341619892146e-16j), (6-9.957992501029599e-17j), (7+2.2776579365114115e-16j)]\n"
     ]
    }
   ],
   "source": [
    "def  fast_fourier_transform_with_minus_roots(coefficients):  #传入多项式系数数组,确保多项式维度是2的指数\n",
    "    if len(coefficients) <= 1:\n",
    "        return coefficients\n",
    "    degree = len(coefficients)\n",
    "    n_complex_roots = create_n_complex_roots(degree)  #1 创建n次复方根\n",
    "    n_complex_roots = [(root ** -1) for root in n_complex_roots]  #逆向傅里叶变换时n次复方根的指数要取-1   \n",
    "    even_coefficients = coefficients[0 : degree : 2]  #2 获取偶数项系数\n",
    "    odd_coefficients = coefficients[1 : degree : 2] #3 获取奇数项系数\n",
    "    even_fft = frast_fourier_transform_with_minus_roots(even_coefficients) #4  根据公式（27）计算右边第一部分\n",
    "    odd_fft = frast_fourier_transform_with_minus_roots(odd_coefficients)  #5 根据公式（27）计算右边第二部分\n",
    "    fft_first_part = []\n",
    "    fft_second_part = []\n",
    "    for k in range(0, int(degree / 2)):  #6 根据公式（27）将两个结果合并起来\n",
    "        w = n_complex_roots[k]\n",
    "        fft_first_part.append(even_fft[k] + w * odd_fft[k])\n",
    "        fft_second_part.append(even_fft[k] - w * odd_fft[k])  #7根据(30)n次复方根中下半部是上半部的相反数\n",
    "    fft = []\n",
    "    fft.extend(fft_first_part)\n",
    "    fft.extend(fft_second_part)\n",
    "    return fft\n",
    "def  inverse_fast_fourier_tansoform(fft_results):\n",
    "    p = fast_fourier_transform_with_minus_roots(fft_results)\n",
    "    degree = len(fft_results)\n",
    "    p = [i/degree for i in p]\n",
    "    return p\n",
    "coefficients = inverse_fast_fourier_tansoform(fft_results)\n",
    "print(coefficients)"
   ]
  },
  {
   "cell_type": "code",
   "execution_count": 19,
   "metadata": {},
   "outputs": [
    {
     "name": "stdout",
     "output_type": "stream",
     "text": [
      "fast fourier transform for p1 is :  [(10+0j), (-0.41421356237309426+7.242640687119286j), (-2-2j), (2.4142135623730954+1.2426406871192848j), (-2+0j), (2.414213562373095-1.2426406871192857j), (-1.9999999999999998+2j), (-0.4142135623730958-7.242640687119285j)]\n",
      "fast fourier transform for p2 is :  [(26+0j), (3.585786437626906+16.899494936611667j), (-2-2j), (6.414213562373097+2.8994949366116636j), (-2+0j), (6.414213562373094-2.899494936611667j), (-1.9999999999999998+2j), (3.5857864376269033-16.899494936611664j)]\n",
      "coefficients of p1 * p2 are : [(5+4.9960036108132044e-15j), (16+7.116869735053221e-15j), (34+7.055637395095854e-15j), (60+1.7649144619480308e-15j), (61-4.773959005888173e-15j), (52-7.093984980148782e-15j), (32-7.277682000020885e-15j), -1.78779921685247e-15j]\n"
     ]
    }
   ],
   "source": [
    "p1 = [1,2,3,4,0,0,0,0]  #P1多项式对应系数\n",
    "p2 = [5,6,7,8,0,0,0,0]  #P2多项式对应系数\n",
    "fft_p1 = fast_fourier_transform(p1)  #通过快速傅里叶变换计算P1多项式对应的数值形式\n",
    "print('fast fourier transform for p1 is : ', fft_p1)\n",
    "fft_p2 = fast_fourier_transform(p2)  #通过快速傅里叶变换计算P2多项式对应的数值形式\n",
    "print('fast fourier transform for p2 is : ', fft_p2)\n",
    "fft_p12 = [a * b for a, b in zip(fft_p1, fft_p2)]  #多项式相乘可以直接用数值形式相乘\n",
    "coefficients_p1_p2 = inverse_fast_fourier_tansoform(fft_p12)  #将相乘后的数值形式经过逆向傅里叶变换后得到对应系数形式\n",
    "print('coefficients of p1 * p2 are :', coefficients_p1_p2)"
   ]
  },
  {
   "cell_type": "code",
   "execution_count": null,
   "metadata": {},
   "outputs": [],
   "source": [
    "def merge_fft(a):  #a的前一半元素对应左分支，后一半对应右分支\n",
    "    if len(a) <= 1:\n",
    "        return a\n",
    "    degree = len(a)\n",
    "    complex_roots =  create_n_complex_roots(degree)\n",
    "    even_fft = a[0:int(degree / 2)]\n",
    "    odd_fft = a[int(degree / 2): ]\n",
    "    fft_first_part = []\n",
    "    fft_second_part = []\n",
    "     for k in range(0, int(degree / 2)):\n",
    "        t = odd_fft[k] * complex_roots[k]\n",
    "        fft_first_part.append(even_fft[k] + t)  #1\n",
    "        fft_second_part.append(even_fft[k] - t)  #2\n",
    "    fft = []\n",
    "    fft.extend(fft_first_part)\n",
    "    fft.extend(fft_second_part)\n",
    "    return fft"
   ]
  },
  {
   "cell_type": "code",
   "execution_count": 53,
   "metadata": {},
   "outputs": [
    {
     "name": "stdout",
     "output_type": "stream",
     "text": [
      "[0, 4, 2, 6, 1, 5, 3, 7]\n"
     ]
    }
   ],
   "source": [
    "from copy import deepcopy\n",
    "def  reverse_bits(k, degree): #k的二进制翻转\n",
    "    width = int(math.log(degree, 2))\n",
    "    binary_k = '{:0{width}b}'.format(k, width=width)  #转换成二进制格式\n",
    "    return int(binary_k[::-1], 2)  #倒转二进制格式\n",
    "def  get_bottom_permutation(a):  #a对应多项式系数数组\n",
    "    degree = len(a)\n",
    "    A = deepcopy(a)\n",
    "    for k in range(0, degree):\n",
    "        A[reverse_bits(k, degree)] = a[k]\n",
    "    return A\n",
    "coefficients = [0, 1, 2, 3, 4, 5, 6, 7]\n",
    "print(get_bottom_permutation(coefficients))"
   ]
  },
  {
   "cell_type": "code",
   "execution_count": 15,
   "metadata": {},
   "outputs": [],
   "source": [
    "import random\n",
    "%matplotlib qt5\n",
    "import numpy as np\n",
    "import matplotlib.pyplot as plt\n",
    "\n",
    "N = 20  #在平面上随机绘制20个点\n",
    "x = np.random.rand(N)\n",
    "y = np.random.rand(N)\n",
    "x_t = [x_pt + np.random.randint(N) + 10 for x_pt in x]  #让点与点之间不重合\n",
    "y_t = [y_pt + np.random.randint(N) + 10 for y_pt in y]\n",
    "\n",
    "plt.scatter(x_t, y_t)\n",
    "plt.show()"
   ]
  }
 ],
 "metadata": {
  "kernelspec": {
   "display_name": "Python 3",
   "language": "python",
   "name": "python3"
  },
  "language_info": {
   "codemirror_mode": {
    "name": "ipython",
    "version": 3
   },
   "file_extension": ".py",
   "mimetype": "text/x-python",
   "name": "python",
   "nbconvert_exporter": "python",
   "pygments_lexer": "ipython3",
   "version": "3.7.2"
  }
 },
 "nbformat": 4,
 "nbformat_minor": 2
}
